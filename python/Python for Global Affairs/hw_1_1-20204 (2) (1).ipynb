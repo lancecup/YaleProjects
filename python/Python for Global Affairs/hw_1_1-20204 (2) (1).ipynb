{
 "cells": [
  {
   "cell_type": "markdown",
   "metadata": {},
   "source": [
    "## Homework 1"
   ]
  },
  {
   "cell_type": "markdown",
   "metadata": {},
   "source": [
    "1. What is a markdown cell in jupyter notebook and how do I change a cell from a markdown cell to a code cell? Use a markdown cell type for this answer."
   ]
  },
  {
   "cell_type": "markdown",
   "metadata": {},
   "source": [
    "A markdown cell is a kind of cell where you can type out text and modify its stylistic features to help explain your code. You can change a cell into a markdown cell by selecting the type on the menu from code/Python cell to that of a markdown cell."
   ]
  },
  {
   "cell_type": "markdown",
   "metadata": {},
   "source": [
    "2. In Python, what is the difference between =(single equal) and == (double equal)? Please give an example of each."
   ]
  },
  {
   "cell_type": "code",
   "execution_count": 8,
   "metadata": {},
   "outputs": [
    {
     "data": {
      "text/plain": [
       "True"
      ]
     },
     "execution_count": 8,
     "metadata": {},
     "output_type": "execute_result"
    }
   ],
   "source": [
    "# The difference of the single equal and double equal is that the former assigns a value to a variable while the latter tests whether it is equal and return a boolean result.\n",
    "# For example:\n",
    "variable = 23\n",
    "variable == 23"
   ]
  },
  {
   "cell_type": "markdown",
   "metadata": {},
   "source": [
    "3. If I am commenting on my code in a cell, what are the two ways to do this in Python?"
   ]
  },
  {
   "cell_type": "code",
   "execution_count": 9,
   "metadata": {},
   "outputs": [
    {
     "data": {
      "text/plain": [
       "\"\\nit's fine since it operates functionally as a comment since it also isn't recognized as a function\\n\""
      ]
     },
     "execution_count": 9,
     "metadata": {},
     "output_type": "execute_result"
    }
   ],
   "source": [
    "# Your answer here: \n",
    "\n",
    "# You can comment using the hashtag symbol so that it isn't recognized as code, or you could also create a multi-line string which isn't really a comment but \n",
    "'''\n",
    "it's fine since it operates functionally as a comment since it also isn't recognized as a function\n",
    "'''\n"
   ]
  },
  {
   "cell_type": "markdown",
   "metadata": {},
   "source": [
    "4. Assign your name, your Yale program, and your year of graduation equal to variables of your choosing. Then write a print statement using an \"f string\" that says \"Hello, my name is (name). I am in Yale's (program) and I hope to graduate in (year).\""
   ]
  },
  {
   "cell_type": "code",
   "execution_count": 10,
   "metadata": {},
   "outputs": [
    {
     "name": "stdout",
     "output_type": "stream",
     "text": [
      "Hello my name is Lance. I am in Yale's MA in International and Development Economics and I hope to graduate in 2025\n"
     ]
    }
   ],
   "source": [
    "#Your answer here: \n",
    "name = 'Lance'\n",
    "program = 'MA in International and Development Economics'\n",
    "year = 2025\n",
    "print(f'Hello my name is {name}. I am in Yale\\'s {program} and I hope to graduate in {year}')"
   ]
  },
  {
   "cell_type": "markdown",
   "metadata": {},
   "source": [
    "5. Write the mathematical operators for the following using a markdown cell type and give a code example of each:\n",
    "\n",
    "For example: plus: + , 3 + 4\n",
    "\n",
    "minus:\n",
    "\n",
    "multiply:\n",
    "\n",
    "divide:\n",
    "\n",
    "find the remainder of two numbers divided:\n",
    "\n",
    "square: (as in 3 squared is 9)\n",
    "\n",
    "cube: (as in 2 cubed is 8)\n",
    "\n",
    "greater than:\n",
    "\n",
    "greater than or equal to:\n",
    "\n",
    "less than:\n",
    "\n",
    "less than or equal to:"
   ]
  },
  {
   "cell_type": "markdown",
   "metadata": {},
   "source": [
    "6. What is the built-in Python function to determine the type of an object? Give four examples of using this function on four different object types."
   ]
  },
  {
   "cell_type": "code",
   "execution_count": 11,
   "metadata": {},
   "outputs": [
    {
     "name": "stdout",
     "output_type": "stream",
     "text": [
      "<class 'str'>\n",
      "<class 'float'>\n",
      "<class 'int'>\n",
      "<class 'bool'>\n"
     ]
    }
   ],
   "source": [
    "#Your answer here: \n",
    "# It's the type() function that shows either strings, integers, floats, or boolean results\n",
    "abad = 'Lance'\n",
    "bristle = 23.1\n",
    "casey = 20\n",
    "diamond = True\n",
    "print(type(abad))\n",
    "print(type(bristle))\n",
    "print(type(casey))\n",
    "print(type(diamond))"
   ]
  },
  {
   "cell_type": "markdown",
   "metadata": {},
   "source": [
    "7. Use the \"replace\" method in python so that the following occurs:\n",
    "\n",
    "greeting = \"Hello there students!\"\n",
    "becomes\n",
    "print(greeting)\n",
    "output: \"Hello there Pythonistas!\""
   ]
  },
  {
   "cell_type": "code",
   "execution_count": 12,
   "metadata": {},
   "outputs": [
    {
     "data": {
      "text/plain": [
       "'Hello there Pythonistas!'"
      ]
     },
     "execution_count": 12,
     "metadata": {},
     "output_type": "execute_result"
    }
   ],
   "source": [
    "#your code here:\n",
    "greeting = 'Hello there students!'\n",
    "greeting.replace('students', 'Pythonistas')"
   ]
  },
  {
   "cell_type": "markdown",
   "metadata": {},
   "source": [
    "8.In the following code:\n",
    "agreement = \"Paris Agreement\" \n",
    "agreement.replace(\"Paris\", \"Moon\") \n",
    "print(agreement)\n",
    "\n",
    "The output is \"Paris Agreement\", not \"Moon Agreement\"\n",
    "\n",
    "Please explain why that is the case. \n"
   ]
  },
  {
   "cell_type": "markdown",
   "metadata": {},
   "source": [
    "Your answer here:"
   ]
  },
  {
   "cell_type": "markdown",
   "metadata": {},
   "source": [
    "9. Now fix the code using the replace method so that:\n",
    "   agreement = \"Paris Agreement\"\n",
    "   when you write:\n",
    "   print(agreement)\n",
    "   output is \"Moon Agreement\""
   ]
  },
  {
   "cell_type": "markdown",
   "metadata": {},
   "source": [
    "Your answer here: "
   ]
  },
  {
   "cell_type": "markdown",
   "metadata": {},
   "source": [
    "10. Please explain why the statement returns \"False\" and write code that fixes the error:\n",
    "\n",
    ".3 + .3 + .3 == .9\n"
   ]
  },
  {
   "cell_type": "code",
   "execution_count": 13,
   "metadata": {},
   "outputs": [
    {
     "data": {
      "text/plain": [
       "True"
      ]
     },
     "execution_count": 13,
     "metadata": {},
     "output_type": "execute_result"
    }
   ],
   "source": [
    "#Your code here:\n",
    "# this happens since python doesn't actually store the numbers as their exact values but instead very close approximations\n",
    "\n",
    "round(0.3 + 0.3 + 0.3, 1) == 0.9 "
   ]
  },
  {
   "cell_type": "markdown",
   "metadata": {},
   "source": [
    "11. I want to make a tip calculator. Step one:\n",
    "Please use the input method to accept an input from a user prompting them with \"Please enter a price of the meal\" and save\n",
    " it to the variable \"price\""
   ]
  },
  {
   "cell_type": "code",
   "execution_count": 14,
   "metadata": {},
   "outputs": [
    {
     "name": "stdout",
     "output_type": "stream",
     "text": [
      "You'll be tipping 3.4499999999999997, thanks!\n"
     ]
    }
   ],
   "source": [
    "#Your code here:\n",
    "price = int(input('Please enter a price of the meal: '))\n",
    "print(f'You\\'ll be tipping {0.15*price}, thanks!')"
   ]
  },
  {
   "cell_type": "code",
   "execution_count": 17,
   "metadata": {},
   "outputs": [
    {
     "name": "stdout",
     "output_type": "stream",
     "text": [
      "The 10% tip would be: 2.0. While the total including tip would be 22.0\n"
     ]
    }
   ],
   "source": [
    "price = int(input('Please enter a price of the meal: '))\n",
    "tip = int(input('How much % do you want to tip? '))\n",
    "print(f'The {tip}% tip would be: {price * tip/100}. While the total including tip would be {price + (tip/100 * price)}')"
   ]
  },
  {
   "cell_type": "code",
   "execution_count": null,
   "metadata": {},
   "outputs": [],
   "source": [
    "# 12. Here is a script I wrote for a tip calculator:\n",
    "                        \n",
    "price = input(\"Please enter the price of the meal: \" )\n",
    "\n",
    "tip = price * 0.22\n",
    "\n",
    "total = price + tip\n",
    "\n",
    "print(\"A 16% tip would be: \", tip)\n",
    "\n",
    "print(\"The total including tip would be: \", total)\n",
    "\n",
    "The problem is it throws an error! Can you look at this code and see why it is throwing an error without running it? "
   ]
  },
  {
   "cell_type": "markdown",
   "metadata": {},
   "source": [
    "13. Please fix the above code and run it:"
   ]
  },
  {
   "cell_type": "code",
   "execution_count": 20,
   "metadata": {},
   "outputs": [
    {
     "name": "stdout",
     "output_type": "stream",
     "text": [
      "A 16% tip would be:  5.06\n",
      "The total including tip would be:  28.06\n"
     ]
    }
   ],
   "source": [
    "#Your code here:\n",
    "# The problem with the above code is that you didn't make the input an integer or float\n",
    "price = float(input(\"Please enter the price of the meal: \" ))\n",
    "\n",
    "tip = price * 0.22\n",
    "\n",
    "total = price + tip\n",
    "\n",
    "print(\"A 16% tip would be: \", tip)\n",
    "\n",
    "print(\"The total including tip would be: \", total)"
   ]
  },
  {
   "cell_type": "markdown",
   "metadata": {},
   "source": [
    "14. Write a script that takes a user inputted string and checks whether if they are the following\n",
    "\n",
    "if it is all alphabets\n",
    "if it is numeric\n",
    "if it is all upper case\n",
    "if it is all lower case"
   ]
  },
  {
   "cell_type": "code",
   "execution_count": 2,
   "metadata": {},
   "outputs": [
    {
     "name": "stdout",
     "output_type": "stream",
     "text": [
      "Seems like this is neither all alphabets nor all numeric. Don't forget, spaces and punctuations means it isn't all alphabets or numeric, kind of a strict requirement\n"
     ]
    }
   ],
   "source": [
    "#Your code here:\n",
    "sentence = input('Give me whatever you got!')\n",
    "\n",
    "if sentence.isalpha() == True:\n",
    "    if sentence.isupper() == True:\n",
    "        print('This is all upper case! Which implies that it is also all alphabets.')\n",
    "    elif sentence.islower() == True: \n",
    "        print('This is all lower case, same story. This is also then all alphabets.')\n",
    "    else:\n",
    "        print('It doesn\\'t seem like this is all alphabets...')\n",
    "elif sentence.isnumeric() == True:\n",
    "    print('This is all numeric!')\n",
    "else:\n",
    "    print('Seems like this is neither all alphabets nor all numeric. Don\\'t forget, spaces and punctuations means it isn\\'t all alphabets or numeric, kind of a strict requirement')"
   ]
  },
  {
   "cell_type": "code",
   "execution_count": null,
   "metadata": {},
   "outputs": [],
   "source": [
    "15. Write a script that takes a user inputted target_string of your chosing and prints it out in the following three formats.\n",
    "\n",
    "All letters capitalized - capitalize( )\n",
    "All letters lowercase - lower( )\n",
    "All vowels lowercase and all consonants uppercase "
   ]
  },
  {
   "cell_type": "code",
   "execution_count": 8,
   "metadata": {},
   "outputs": [
    {
     "name": "stdout",
     "output_type": "stream",
     "text": [
      "HELLO U LOVE PANCAKES\n",
      "hello u love pancakes\n",
      "HeLLo u LoVe PaNCaKeS\n"
     ]
    }
   ],
   "source": [
    "# Your code below\n",
    "\n",
    "words = input('What do you have to say for yourself?')\n",
    "print(words.upper())\n",
    "print(words.lower())\n",
    "\n",
    "vowels = ['a', 'e', 'i', 'o', 'u']\n",
    "converted = []\n",
    "for char in words:\n",
    "    if char.lower() in vowels:\n",
    "        converted.append(char.lower())\n",
    "    else:\n",
    "        converted.append(char.capitalize())\n",
    "print(''.join(converted))\n"
   ]
  },
  {
   "cell_type": "markdown",
   "metadata": {},
   "source": [
    "16. Assuming a package is not part of the Anaconda build of Python used, how would I:\n",
    "a. install a package from my terminal?\n",
    "b. install a package from my Jupyter notebook ?\n",
    "c. import a package ? \n",
    "d. what happens when if I write \"import this\" but don't name a package? (run it below)"
   ]
  },
  {
   "cell_type": "code",
   "execution_count": 9,
   "metadata": {},
   "outputs": [
    {
     "name": "stdout",
     "output_type": "stream",
     "text": [
      "The Zen of Python, by Tim Peters\n",
      "\n",
      "Beautiful is better than ugly.\n",
      "Explicit is better than implicit.\n",
      "Simple is better than complex.\n",
      "Complex is better than complicated.\n",
      "Flat is better than nested.\n",
      "Sparse is better than dense.\n",
      "Readability counts.\n",
      "Special cases aren't special enough to break the rules.\n",
      "Although practicality beats purity.\n",
      "Errors should never pass silently.\n",
      "Unless explicitly silenced.\n",
      "In the face of ambiguity, refuse the temptation to guess.\n",
      "There should be one-- and preferably only one --obvious way to do it.\n",
      "Although that way may not be obvious at first unless you're Dutch.\n",
      "Now is better than never.\n",
      "Although never is often better than *right* now.\n",
      "If the implementation is hard to explain, it's a bad idea.\n",
      "If the implementation is easy to explain, it may be a good idea.\n",
      "Namespaces are one honking great idea -- let's do more of those!\n"
     ]
    }
   ],
   "source": [
    "#Your code here:\n",
    "#a. I would have to install the package through pip installing \"pip install package_name\", with anaconda, this becomes \"conda install package_name\"\n",
    "#b. The difference with doing it in a Jupyter notebook involves the inclusion of the exclamation point before the pip and conda respectively. \n",
    "#c. You would have to do import package_name, if you want a specific way to call the package, you can add \"as\" for it to be read a certain way. Ex. import numpy as np\n",
    "#d.\n",
    "import this"
   ]
  },
  {
   "cell_type": "markdown",
   "metadata": {},
   "source": [
    "17.statement= 'It's truly one of my favorite quotes: \"Success depends on intuition, on seeing what afterwards proves to be true but cannot be established at the moment\"\n",
    "#To whom is the previous quote atributed?"
   ]
  },
  {
   "cell_type": "markdown",
   "metadata": {},
   "source": [
    "Your answer here: Joseph A. Schumpeter"
   ]
  },
  {
   "cell_type": "code",
   "execution_count": 11,
   "metadata": {},
   "outputs": [],
   "source": [
    "# 18. Copy the code above to the cell below. Run it. Why is it throwing an error? Please fix it."
   ]
  },
  {
   "cell_type": "code",
   "execution_count": 12,
   "metadata": {},
   "outputs": [],
   "source": [
    "#Your answer here: It's because the strings aren't properly made\n",
    "#Your code here:\n",
    "\n",
    "statement= 'It\\'s truly one of my favorite quotes: \"Success depends on intuition, on seeing what afterwards proves to be true but cannot be established at the moment\"'\n",
    "#To whom is the previous quote atributed?"
   ]
  },
  {
   "cell_type": "markdown",
   "metadata": {},
   "source": [
    "19. Write code, using the strip() method  to remove the white spaces from the beginning and the end of the following and print below:\n",
    "\n"
   ]
  },
  {
   "cell_type": "code",
   "execution_count": 13,
   "metadata": {},
   "outputs": [
    {
     "data": {
      "text/plain": [
       "\"Hi students. What's going on?!\""
      ]
     },
     "execution_count": 13,
     "metadata": {},
     "output_type": "execute_result"
    }
   ],
   "source": [
    "greeting = \"   Hi students. What's going on?!       \"\n",
    "# You answer here: \n",
    "greeting.strip()"
   ]
  },
  {
   "cell_type": "markdown",
   "metadata": {},
   "source": [
    "20. (2pt) How do you convert a string to all lowercase? Give an example."
   ]
  },
  {
   "cell_type": "code",
   "execution_count": 14,
   "metadata": {},
   "outputs": [
    {
     "data": {
      "text/plain": [
       "'hello'"
      ]
     },
     "execution_count": 14,
     "metadata": {},
     "output_type": "execute_result"
    }
   ],
   "source": [
    "# Your answer here: \n",
    "'HELLO'.lower()\n"
   ]
  },
  {
   "cell_type": "markdown",
   "metadata": {},
   "source": [
    "21. (2pt)How do you convert a string to a list in python? Give an example."
   ]
  },
  {
   "cell_type": "code",
   "execution_count": 15,
   "metadata": {},
   "outputs": [
    {
     "name": "stdout",
     "output_type": "stream",
     "text": [
      "['L', 'e', 'a', 'g', 'u', 'e', ' ', 'o', 'f', ' ', 'l', 'e', 'g', 'e', 'n', 'd', 's']\n"
     ]
    }
   ],
   "source": [
    "# Your answer here: \n",
    "gather = 'League of legends'\n",
    "my_list = list(gather)\n",
    "print(my_list)"
   ]
  },
  {
   "cell_type": "markdown",
   "metadata": {},
   "source": [
    "22. (2pt) How do you convert a string to a tuple in python? Give an example."
   ]
  },
  {
   "cell_type": "code",
   "execution_count": 16,
   "metadata": {},
   "outputs": [
    {
     "name": "stdout",
     "output_type": "stream",
     "text": [
      "('B', 'i', 'n', 'd', 'e', 'r')\n"
     ]
    }
   ],
   "source": [
    "# Your answer here: \n",
    "string = 'Binder' \n",
    "my_tuple = tuple(string)\n",
    "print(my_tuple)"
   ]
  },
  {
   "cell_type": "markdown",
   "metadata": {},
   "source": [
    "23. (2pt) How do you convert a string to an int in python? Give an example."
   ]
  },
  {
   "cell_type": "code",
   "execution_count": 18,
   "metadata": {},
   "outputs": [
    {
     "name": "stdout",
     "output_type": "stream",
     "text": [
      "<class 'int'>\n"
     ]
    }
   ],
   "source": [
    "# Your answer here: \n",
    "popping = '23'\n",
    "print(type(int(popping)))"
   ]
  },
  {
   "cell_type": "markdown",
   "metadata": {},
   "source": [
    "24. (2pt) How do you convert a string to a float in python? Give an example."
   ]
  },
  {
   "cell_type": "code",
   "execution_count": 19,
   "metadata": {},
   "outputs": [
    {
     "name": "stdout",
     "output_type": "stream",
     "text": [
      "<class 'float'>\n"
     ]
    }
   ],
   "source": [
    "# Your answer here: \n",
    "twenty = '20.23'\n",
    "print(type(float(twenty)))"
   ]
  },
  {
   "cell_type": "markdown",
   "metadata": {},
   "source": [
    "25. (2pt) What are Python's dictionaries? Give an example of a great use for dictionaries.Give an example."
   ]
  },
  {
   "cell_type": "code",
   "execution_count": 21,
   "metadata": {},
   "outputs": [
    {
     "name": "stdout",
     "output_type": "stream",
     "text": [
      "{'age': 25, 'email': 'alice@example.com'}\n"
     ]
    }
   ],
   "source": [
    "# Your answer here: \n",
    "# Dictionaries are collections of unique key-value pairs. It is useful to when assigning a particular value to unique data for particular individuals or users and retrieving them efficiently\n",
    "\n",
    "# Example: Storing user information\n",
    "user_info = {\n",
    "    \"alice\": {\"age\": 25, \"email\": \"alice@example.com\"},\n",
    "    \"bob\": {\"age\": 30, \"email\": \"bob@example.com\"},\n",
    "    \"charlie\": {\"age\": 28, \"email\": \"charlie@example.com\"}\n",
    "}\n",
    "\n",
    "# Accessing data using a key\n",
    "print(user_info[\"alice\"])\n"
   ]
  },
  {
   "cell_type": "markdown",
   "metadata": {},
   "source": [
    "26. (2pt) Create a dictionary with keys and values. Give an example."
   ]
  },
  {
   "cell_type": "code",
   "execution_count": 22,
   "metadata": {},
   "outputs": [
    {
     "name": "stdout",
     "output_type": "stream",
     "text": [
      "dict_keys(['lance', 'leah', 'hanson'])\n",
      "dict_values([92, 100, 98])\n"
     ]
    }
   ],
   "source": [
    "# Your answer here: \n",
    "grades = {\n",
    "    'lance':92, 'leah':100, 'hanson':98\n",
    "}\n",
    "print(grades.keys())\n",
    "print(grades.values())"
   ]
  },
  {
   "cell_type": "markdown",
   "metadata": {},
   "source": [
    "27. (2pt) How do you get all the values from the dictionary? Give an example."
   ]
  },
  {
   "cell_type": "code",
   "execution_count": 9,
   "metadata": {},
   "outputs": [],
   "source": [
    "# Your answer here: \n",
    "print(grades.values())"
   ]
  },
  {
   "cell_type": "markdown",
   "metadata": {},
   "source": [
    "28. (2pt) How do you get all the keys from the dictionary? Give an example."
   ]
  },
  {
   "cell_type": "code",
   "execution_count": 10,
   "metadata": {},
   "outputs": [],
   "source": [
    "# Your answer here: \n",
    "print(grades.keys())"
   ]
  },
  {
   "cell_type": "markdown",
   "metadata": {},
   "source": [
    "29. (2pt) How do you capitalizes first letter of string? Give an example."
   ]
  },
  {
   "cell_type": "code",
   "execution_count": 23,
   "metadata": {},
   "outputs": [
    {
     "name": "stdout",
     "output_type": "stream",
     "text": [
      "I love yale\n"
     ]
    }
   ],
   "source": [
    "# Your answer here: \n",
    "bulldog = 'i love yale'\n",
    "print(bulldog.capitalize())"
   ]
  },
  {
   "cell_type": "markdown",
   "metadata": {},
   "source": [
    "30. (2pt) How do you check in a string that all characters are digits? Give an example.\n"
   ]
  },
  {
   "cell_type": "code",
   "execution_count": 24,
   "metadata": {},
   "outputs": [
    {
     "name": "stdout",
     "output_type": "stream",
     "text": [
      "False\n"
     ]
    }
   ],
   "source": [
    "# Your answer here: \n",
    "print(bulldog.isdigit())"
   ]
  },
  {
   "cell_type": "markdown",
   "metadata": {},
   "source": [
    "31. (2pt) How do you check in a string that all characters are alphanumeric? Give an example."
   ]
  },
  {
   "cell_type": "code",
   "execution_count": 25,
   "metadata": {},
   "outputs": [
    {
     "name": "stdout",
     "output_type": "stream",
     "text": [
      "False\n"
     ]
    }
   ],
   "source": [
    "# Your answer here: \n",
    "print(bulldog.isalnum())"
   ]
  },
  {
   "cell_type": "markdown",
   "metadata": {},
   "source": [
    "32. (2pt) How do you check in a string that all characters are in lowercase? Give an example."
   ]
  },
  {
   "cell_type": "code",
   "execution_count": 26,
   "metadata": {},
   "outputs": [
    {
     "name": "stdout",
     "output_type": "stream",
     "text": [
      "True\n"
     ]
    }
   ],
   "source": [
    "# Your answer here: \n",
    "print(bulldog.islower())"
   ]
  },
  {
   "cell_type": "markdown",
   "metadata": {},
   "source": [
    "33. (2pt) How do you check in a string that all characters are not numbers. Give an example."
   ]
  },
  {
   "cell_type": "code",
   "execution_count": 28,
   "metadata": {},
   "outputs": [
    {
     "name": "stdout",
     "output_type": "stream",
     "text": [
      "Not all numbers\n"
     ]
    }
   ],
   "source": [
    "# Your answer here: \n",
    "if bulldog.isnumeric() == False:\n",
    "    print('Not all numbers')\n",
    "else:\n",
    "    print('All numbers')"
   ]
  },
  {
   "cell_type": "markdown",
   "metadata": {},
   "source": [
    "33. (2pt) How do you get the length of the string? Give an example."
   ]
  },
  {
   "cell_type": "code",
   "execution_count": 29,
   "metadata": {},
   "outputs": [
    {
     "name": "stdout",
     "output_type": "stream",
     "text": [
      "11\n"
     ]
    }
   ],
   "source": [
    "# Your answer here: \n",
    "print(len(bulldog))"
   ]
  },
  {
   "cell_type": "markdown",
   "metadata": {},
   "source": [
    "34. (2pt) How do you convert a string to all lowercase? Give an example."
   ]
  },
  {
   "cell_type": "code",
   "execution_count": 30,
   "metadata": {},
   "outputs": [
    {
     "name": "stdout",
     "output_type": "stream",
     "text": [
      "i love yale\n"
     ]
    }
   ],
   "source": [
    "# Your answer here: \n",
    "print(bulldog.lower())"
   ]
  },
  {
   "cell_type": "markdown",
   "metadata": {},
   "source": [
    "35. (2pt) How do you remove all leading whitespace in string? Give an example."
   ]
  },
  {
   "cell_type": "code",
   "execution_count": 34,
   "metadata": {},
   "outputs": [
    {
     "name": "stdout",
     "output_type": "stream",
     "text": [
      "i love yale\n"
     ]
    }
   ],
   "source": [
    "# Your answer here: \n",
    "print(bulldog.strip())"
   ]
  },
  {
   "cell_type": "markdown",
   "metadata": {},
   "source": [
    "36. (2pt) What is the difference between del() and remove() methods of list? Give an example."
   ]
  },
  {
   "cell_type": "code",
   "execution_count": 57,
   "metadata": {},
   "outputs": [
    {
     "name": "stdout",
     "output_type": "stream",
     "text": [
      "['Goldberg', 'Boozer', 'Fieler', 'Yarmola']\n"
     ]
    }
   ],
   "source": [
    "# Your answer here: \n",
    "enlistment = ['Goldberg', 'Metrick', 'King', 'Boozer', 'Fieler', 'Yarmola']\n",
    "del enlistment[2] # only deletes based on index \n",
    "enlistment.remove('Metrick') # Removes specific element\n",
    "print(enlistment)"
   ]
  },
  {
   "cell_type": "markdown",
   "metadata": {},
   "source": [
    "37. (2pt) How do you get the index of an object in a list? Give an example."
   ]
  },
  {
   "cell_type": "code",
   "execution_count": 41,
   "metadata": {},
   "outputs": [
    {
     "data": {
      "text/plain": [
       "3"
      ]
     },
     "execution_count": 41,
     "metadata": {},
     "output_type": "execute_result"
    }
   ],
   "source": [
    "# Your answer here: \n",
    "enlistment.index('Yarmola')"
   ]
  },
  {
   "cell_type": "markdown",
   "metadata": {},
   "source": [
    "38. (2pt) How do you insert an object at given index in a list? Give an example."
   ]
  },
  {
   "cell_type": "code",
   "execution_count": 43,
   "metadata": {},
   "outputs": [
    {
     "name": "stdout",
     "output_type": "stream",
     "text": [
      "['Goldberg', 'Boozer', 'Fieler', 'Yarmola', 23, 23]\n"
     ]
    }
   ],
   "source": [
    "# Your answer here: \n",
    "enlistment.append(23)\n",
    "print(enlistment)"
   ]
  },
  {
   "cell_type": "markdown",
   "metadata": {},
   "source": [
    "39. (2pt) How do you get the length of a list? Give an example."
   ]
  },
  {
   "cell_type": "code",
   "execution_count": 45,
   "metadata": {},
   "outputs": [
    {
     "name": "stdout",
     "output_type": "stream",
     "text": [
      "6\n"
     ]
    }
   ],
   "source": [
    "# Your answer here: \n",
    "print(len(enlistment))"
   ]
  },
  {
   "cell_type": "markdown",
   "metadata": {},
   "source": [
    "40. (2pt) How do you remove last object from a list?"
   ]
  },
  {
   "cell_type": "code",
   "execution_count": 47,
   "metadata": {},
   "outputs": [
    {
     "name": "stdout",
     "output_type": "stream",
     "text": [
      "['Goldberg', 'Boozer', 'Fieler', 'Yarmola']\n"
     ]
    }
   ],
   "source": [
    "# Your answer here: \n",
    "enlistment.pop()\n",
    "print(enlistment)"
   ]
  },
  {
   "cell_type": "markdown",
   "metadata": {},
   "source": [
    "41. (2pt) How do you reverse a list? Give an example."
   ]
  },
  {
   "cell_type": "code",
   "execution_count": 63,
   "metadata": {},
   "outputs": [
    {
     "name": "stdout",
     "output_type": "stream",
     "text": [
      "['Goldberg', 'Boozer', 'Fieler', 'Yarmola']\n"
     ]
    }
   ],
   "source": [
    "# Your answer here: \n",
    "enlistment.reverse()\n",
    "print(enlistment)"
   ]
  },
  {
   "cell_type": "markdown",
   "metadata": {},
   "source": [
    "42. (2pt) How would you slice a list? Give an example."
   ]
  },
  {
   "cell_type": "code",
   "execution_count": 68,
   "metadata": {},
   "outputs": [
    {
     "data": {
      "text/plain": [
       "['Goldberg', 'Boozer']"
      ]
     },
     "execution_count": 68,
     "metadata": {},
     "output_type": "execute_result"
    }
   ],
   "source": [
    "# Your answer here: \n",
    "enlistment[0:2] # Slicing elements 1 to 2"
   ]
  },
  {
   "cell_type": "code",
   "execution_count": 72,
   "metadata": {},
   "outputs": [
    {
     "data": {
      "text/plain": [
       "2"
      ]
     },
     "execution_count": 72,
     "metadata": {},
     "output_type": "execute_result"
    }
   ],
   "source": [
    "x = (1,2)\n",
    "x[1]"
   ]
  },
  {
   "cell_type": "markdown",
   "metadata": {},
   "source": [
    "43. (10 pts) Iterate through a list and create a new list with only happy words. A happy is anything above the threshold. Print your happy word list without values (just words)."
   ]
  },
  {
   "cell_type": "code",
   "execution_count": 75,
   "metadata": {},
   "outputs": [
    {
     "name": "stdout",
     "output_type": "stream",
     "text": [
      "['overjoyed', 'blissful', 'chocolately']\n"
     ]
    }
   ],
   "source": [
    "threshold = 0.5\n",
    "feelings = [('blue', 0.1), ('melancholy',0.4), ('fine', 0.5 ), ('okay',0.5), ('overjoyed',1.0), ('blissful',0.9), ('chocolately',0.8)]\n",
    "happy = []\n",
    "# your code here:\n",
    "for emotion in feelings:\n",
    "    if emotion[1] > threshold:\n",
    "        happy.append(emotion[0])\n",
    "    else:\n",
    "        pass\n",
    "\n",
    "print(happy)"
   ]
  },
  {
   "cell_type": "markdown",
   "metadata": {},
   "source": [
    "44. (5 pts) Take a user input that takes in a user's name, age.\n",
    "Create an f string that prints \"Hello \"name\", how does it feel to be \"age?\"\n",
    "Then create an answer that takes a random choice from your happy_word list, and print \"Gee, it feels \"answer\" to be \"age\". Thanks for asking!\"\n",
    "\n"
   ]
  },
  {
   "cell_type": "code",
   "execution_count": 76,
   "metadata": {
    "scrolled": true
   },
   "outputs": [
    {
     "name": "stdout",
     "output_type": "stream",
     "text": [
      "Hello Lance, how does it feel to be 23 years old?\n",
      "Gee, it feels blissful to be 23 years old. Thanks for asking!\n"
     ]
    }
   ],
   "source": [
    "# Your code here:\n",
    "name = input('What\\'s your name? ')\n",
    "age = int(input('How old are you?'))\n",
    "print(f'Hello {name}, how does it feel to be {age} years old?')\n",
    "\n",
    "import random\n",
    "\n",
    "answer = random.choice(happy)\n",
    "\n",
    "print(f'Gee, it feels {answer} to be {age} years old. Thanks for asking!')"
   ]
  },
  {
   "cell_type": "markdown",
   "metadata": {},
   "source": [
    "45. (5 pts) Convert the following quote to a single string assigned to the variable Brzezinski, without numbers or special characters. Print the output. Make sure you add quotation marks to the beginning and end of the quote.\n"
   ]
  },
  {
   "cell_type": "code",
   "execution_count": 3,
   "metadata": {},
   "outputs": [
    {
     "name": "stdout",
     "output_type": "stream",
     "text": [
      "?Most Americans  are close to total ignorance about the world They are ignorant That is an unhealthy condition in a country in which foreign policy has to be endorsed by the people  if it is to be pursued And  it makes it much more difficult for any president to pursue an intelligent  policy that does justice to the complexity of the world?\n"
     ]
    }
   ],
   "source": [
    "quote = [[('Most Americans ^331 are close to total ignorance about the world. They are ignorant. That is an unhealthy condition in a country in which foreign policy has to be endorsed by the people 402 if it is to be pursued. And 404 it makes it much more difficult for any president to pursue an intelligent %%&* policy that does justice to the complexity of the world.')]]\n",
    "\n",
    "clean_list = quote[0][0]\n",
    "\n",
    "type(clean_list)\n",
    "\n",
    "cleaned_text = \"\"\n",
    "\n",
    "for char in clean_list:\n",
    "    if char.isalpha() or char.isspace():\n",
    "        cleaned_text += char\n",
    "\n",
    "print(f'?{cleaned_text}?')\n"
   ]
  },
  {
   "cell_type": "markdown",
   "metadata": {},
   "source": [
    "46. (1pts) There is a wikipedia package for Python! It makes it super easy to collect and parse entries. Install it and print a summary of the Marquis de Lafayette in French."
   ]
  },
  {
   "cell_type": "code",
   "execution_count": 112,
   "metadata": {},
   "outputs": [
    {
     "name": "stdout",
     "output_type": "stream",
     "text": [
      "Gilbert du Motier, marquis de La Fayette, né le 6 septembre 1757 au château de Chavaniac près de Saint-Georges-d'Aurac (Auvergne, actuel département de la Haute-Loire), et mort le 20 mai 1834 à Paris (ancien 1er arrondissement), est un officier et homme politique français, célèbre en raison de son engagement dans les rangs de l'armée des insurgés américains (1777-1783), puis dans l'aile libérale et réformiste de l'aristocratie française (1784-1792), enfin dans l'opposition libérale au régime de la monarchie de Juillet qu'il avait pourtant contribué à établir lors des Trois Glorieuses (juillet 1830).\n",
      "Convaincu de la noblesse de la cause des insurgés américains, il s'engage à leurs côtés en 1777. Nommé général à l'âge de 19 ans par George Washington, La Fayette joue un rôle décisif dans la guerre d'indépendance des États-Unis contre la Grande-Bretagne, notamment lors de la victoire de Yorktown le 19 octobre 1781. Surnommé le « héros des deux mondes », il est depuis 2002 un des huit citoyens d'honneur des États-Unis. Il y fait d'ailleurs à l'invitation du président James Monroe un voyage triomphal en 1824, au cours duquel il est accueilli et honoré dans 182 villes des 24 États que compte l'Union à cette époque.\n",
      "Après avoir combattu aux États-Unis, La Fayette œuvre en France à la rénovation du pouvoir royal, avant de devenir une des grandes personnalités de la Révolution française, avec la rédaction de la déclaration des droits de l'homme et du citoyen et le commandement de la Garde nationale, jusqu'à son émigration en 1792 après avoir déserté son poste en espérant rallier l’armée prussienne. Il est néanmoins arrêté et incarcéré pendant cinq ans par les autorités autrichiennes et prussiennes.\n",
      "La Fayette est aussi un acteur politique majeur de la révolution de Juillet en 1830 et des débuts de la monarchie de Juillet, rompant cependant rapidement avec le roi Louis-Philippe dont il avait soutenu l'accession au trône. Durant cette dernière période de sa vie, il s'affirme aussi comme un soutien majeur à la Pologne après l'insurrection de 1830-1831.\n",
      "À partir de 1789, La Fayette signe ses courriers « Lafayette » en un seul mot, en réaction contre le système nobiliaire abattu par la révolution. C'est cette graphie qui est utilisée par ses contemporains jusqu'à sa mort.\n"
     ]
    }
   ],
   "source": [
    "import wikipedia\n",
    "\n",
    "# Set the language to French\n",
    "wikipedia.set_lang(\"fr\")\n",
    "\n",
    "# Try with the correct French title for the Marquis de Lafayette\n",
    "summary = wikipedia.summary(\"Gilbert du Motier, marquis de La Fayette\")\n",
    "\n",
    "print(summary)\n"
   ]
  },
  {
   "cell_type": "markdown",
   "metadata": {},
   "source": [
    "47. (4pts) Write a function that takes two arguments, name and hometown  and prints a statement that says, \"Well hello 'name', you must be from 'hometown' as an f string when called."
   ]
  },
  {
   "cell_type": "code",
   "execution_count": 116,
   "metadata": {},
   "outputs": [
    {
     "name": "stdout",
     "output_type": "stream",
     "text": [
      "Well hello Lance, you must be from Manila\n"
     ]
    }
   ],
   "source": [
    "#Your code here:\n",
    "\n",
    "def bbno(name, hometown):\n",
    "    print(f'Well hello {name}, you must be from {hometown}')\n",
    "\n",
    "bbno('Lance', 'Manila')"
   ]
  },
  {
   "cell_type": "markdown",
   "metadata": {},
   "source": [
    "48. Write a script that takes an age as a user input and prints the following, based on conditions, using if, elif, and else:\n",
    "\n",
    "If the age is 1-18: print \"This individual is a minor. Their brain is still growing.\"\n",
    "If the age is 19-25: print. \"Though the brain may be done growing in size, it does not finish developing and maturing until the mid- to late 20s\"\n",
    "If the age is 26-40: \"Accomplish what you can before your brain rots!\"\n",
    "If the age is 41-100: \"Don't despair! For the first time, researchers have been able to identify superagers MRI images of the brains of superagers with an average age of 67 are remarkably similar to the brain of 25-year-olds.\"m"
   ]
  },
  {
   "cell_type": "code",
   "execution_count": 117,
   "metadata": {},
   "outputs": [
    {
     "name": "stdout",
     "output_type": "stream",
     "text": [
      "Though the brain may be done growing in size, it does not finish developing and maturing until the mid- to late 20s\n"
     ]
    }
   ],
   "source": [
    "#Your code here:\n",
    "\n",
    "age = int(input('How old are you?'))\n",
    "\n",
    "if 1 <= age <= 18:\n",
    "    print(\"This individual is a minor. Their brain is still growing.\")\n",
    "elif 19 <= age <= 25:\n",
    "    print(\"Though the brain may be done growing in size, it does not finish developing and maturing until the mid- to late 20s\")\n",
    "elif 26 <= age <= 40:\n",
    "    print(\"Accomplish what you can before your brain rots!\")\n",
    "elif 41 <= age <= 100:\n",
    "    print(\"Don't despair! For the first time, researchers have been able to identify superagers MRI images of the brains of superagers with an average age of 67 are remarkably similar to the brain of 25-year-olds.\")\n",
    "else: \n",
    "    print('No way you\\'re that old')\n"
   ]
  },
  {
   "cell_type": "markdown",
   "metadata": {},
   "source": [
    "49.Write a while loop that counts down from 20 to \"blastoff\":\n",
    "\n",
    "hint: decrement each time using n = n -1 or using -=\n",
    "n = 20"
   ]
  },
  {
   "cell_type": "code",
   "execution_count": 120,
   "metadata": {},
   "outputs": [
    {
     "name": "stdout",
     "output_type": "stream",
     "text": [
      "20\n",
      "19\n",
      "18\n",
      "17\n",
      "16\n",
      "15\n",
      "14\n",
      "13\n",
      "12\n",
      "11\n",
      "10\n",
      "9\n",
      "8\n",
      "7\n",
      "6\n",
      "5\n",
      "4\n",
      "3\n",
      "2\n",
      "1\n",
      "blastoff\n"
     ]
    }
   ],
   "source": [
    "#Your code here:\n",
    "\n",
    "n = 20\n",
    "while n > 0:\n",
    "    print(n)\n",
    "    n = n-1\n",
    "print('blastoff')"
   ]
  },
  {
   "cell_type": "code",
   "execution_count": 121,
   "metadata": {},
   "outputs": [],
   "source": [
    "#50.#Write code, usting the strip method, to remove the unecessary characters, and add a space to print Jackson Python\n",
    "\n",
    "jackson_string = \"grrrrr....ughhhh..JacksonPython@@@!!!!\"\n"
   ]
  },
  {
   "cell_type": "code",
   "execution_count": 127,
   "metadata": {},
   "outputs": [
    {
     "name": "stdout",
     "output_type": "stream",
     "text": [
      "Jackson Python\n"
     ]
    }
   ],
   "source": [
    "cleaned_string = jackson_string.strip(\"gr.uh@!\")\n",
    "final_string = cleaned_string[:7] + \" \" + cleaned_string[7:]\n",
    "print(final_string)"
   ]
  }
 ],
 "metadata": {
  "kernelspec": {
   "display_name": "base",
   "language": "python",
   "name": "python3"
  },
  "language_info": {
   "codemirror_mode": {
    "name": "ipython",
    "version": 3
   },
   "file_extension": ".py",
   "mimetype": "text/x-python",
   "name": "python",
   "nbconvert_exporter": "python",
   "pygments_lexer": "ipython3",
   "version": "3.12.4"
  }
 },
 "nbformat": 4,
 "nbformat_minor": 4
}
