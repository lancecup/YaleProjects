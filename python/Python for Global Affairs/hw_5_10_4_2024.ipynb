{
 "cells": [
  {
   "cell_type": "markdown",
   "id": "28d70cae-fedc-4dae-be43-c311a6498c95",
   "metadata": {},
   "source": [
    "## Writing to Files and Reading from Them\n",
    "\n",
    "So far, we have been working in \"console world\", a world where we print our output to our Jupyter notebeook cells, and we are happy to do it. But that has it's limitations. What makes these techniquest powerful, is our ability to save files to be accessed later, and to grab data and files from our computers or from data on the internet, or the world wide infonet as it was once called, albeit briefly.\n",
    "\n",
    "Let's go there! \n",
    "\n",
    "### Writing to a File:\n",
    "\n",
    "#### Some basics: \n",
    "Following the \"law of primacy\" ie; what you first learn you will remember most...here is the correct format for writing to a file:\n"
   ]
  },
  {
   "cell_type": "code",
   "execution_count": null,
   "id": "b924d1d1-dc26-4e72-872b-c762694cb36b",
   "metadata": {},
   "outputs": [],
   "source": [
    "#Please assign 'first_lines_leader.txt'. \n",
    "#Please replace \"content\" with the first 3 lines of your favorite speech made by a world leader.\n",
    "#Then, run the code:\n",
    "\n",
    "filename = 'first_lines_leader.txt'\n",
    "content = 'Strange and impressive associations rise in the mind of a man from the New World who speaks before this august body in this ancient institution of learning. Before his eyes pass the shadows of mighty kings and warlike nobles, of great masters of law and theology; through the shining dust of the dead centuries he sees crowded figures that tell of the power and learning and splendor of times gone by; and he sees also the innumerable host of humble students to whom clerkship meant emancipation, to whom it was well-nigh the only outlet from the dark thralldom of the Middle Ages.'\n",
    "with open(filename, 'w') as file:\n",
    "    file.write(content)\n",
    "print(f\"Content written to {filename} successfully.\")\n",
    "\n",
    "#Go to your finder. You should find your file in the same location as where you are working on this notebook.\n",
    "#Confirm you located your file. it."
   ]
  },
  {
   "cell_type": "markdown",
   "id": "57b69e21-b688-4a60-866a-a8dd365be620",
   "metadata": {},
   "source": [
    "### Let's break it down:\n",
    "\n",
    "1. Filename and content as variables:\n",
    "I assigned 'example.txt' to the filename variable and the string to the content variable. This is good practice because it makes the code more flexible and easier to modify.\n",
    "\n",
    "2. with open('filename', 'w') as file:\n",
    "This opens (or creates) a file named 'filename' in write mode ('w'), which will overwrite any existing content in the file.\n",
    "file is the file object you are working with. The file is automatically closed after the block.\n",
    "\n",
    "3. The content is then written to the file object you created. By the way you can call \"file\" anything. Lot's of times I'll write \"fo\" or even f\n",
    "\n",
    "4. A print statement confirms it worked.\n"
   ]
  },
  {
   "cell_type": "markdown",
   "id": "30786fe2-816d-4bc9-8bc1-ca6bec06a18c",
   "metadata": {},
   "source": [
    "### Oh....Did you find your file in your finder? Assuming the answer is \"yes\"...good job! Now let's grab that content and read it to the console\n"
   ]
  },
  {
   "cell_type": "code",
   "execution_count": null,
   "id": "e5ce9319-c77d-4a29-bbd7-34538bd462b8",
   "metadata": {},
   "outputs": [],
   "source": [
    "#Below:\n",
    "#filename is a string that holds the name of the file.\n",
    "#file is the file object created by open(filename, 'r').\n",
    "#The file.read() method reads the content of the file.\n",
    "#The print(content) prints out what was read from the file.\n",
    "\n",
    "with open(filename, 'r') as file:\n",
    "    content = file.read()\n",
    "print(content)"
   ]
  },
  {
   "cell_type": "markdown",
   "id": "a2e23c4b-ffb5-47d4-84a1-9e0ee467aa4e",
   "metadata": {},
   "source": [
    "### Read vs Readlines\n",
    "Above, we see that we can grab all the content of the fie using read(). This is a great way to go if we want to work with the file content as a whole, for example, searching for a word in the entire file, or processing word frequency distribution on a presidential speech.\n",
    "\n",
    "But what if the the file is very large? Teading the entire content into memory can be inefficient or even cause memory issues. \n",
    "\n",
    "Or what if we want to process the file line by line and pull out spaces, or other extraneous info that we don't want? \n",
    "\n",
    "Readlines to the rescue! \n",
    "Readlines reads the file line by line and returns a list of strings, where each string represents a line from the file.\n",
    "\n",
    "Use readlines() when you need to work with the file line by line, and you want to process or iterate over the lines.\n",
    "\n",
    "Here is an example:"
   ]
  },
  {
   "cell_type": "code",
   "execution_count": null,
   "id": "d6242243-2ef8-4dbf-8458-22dd4a65d20a",
   "metadata": {},
   "outputs": [],
   "source": [
    "with open(filename, 'r') as file:\n",
    "    lines = file.readlines()  # Reads the file and returns a list of lines\n",
    "for line in lines:\n",
    "    print(line.strip())  # Strip removes newline characters"
   ]
  },
  {
   "cell_type": "markdown",
   "id": "b4c6e907-cce7-44f5-838a-9bdc3257b0a4",
   "metadata": {},
   "source": [
    "### Alternative for very large files: \n",
    "I want to introduce you to this idea, because ChatGPT might suggest it, so I want you to be exposed and know what's going on.\n",
    "For very large files, neither read() nor readlines() may be efficient. Instead, you can read the file line by line without loading the whole file into memory using what is called a file object iterator:\n",
    "\n"
   ]
  },
  {
   "cell_type": "code",
   "execution_count": null,
   "id": "87507f3a-a99a-4228-92da-91afd4e1a3f6",
   "metadata": {},
   "outputs": [],
   "source": [
    "\n",
    "with open(filename, 'r') as file:\n",
    "    for line in file:\n",
    "        print(line.strip())"
   ]
  },
  {
   "cell_type": "markdown",
   "id": "48b1983a-5a7e-402e-8fd3-4b53c3db0f24",
   "metadata": {},
   "source": [
    "That said, you should use read() or readlines() in the majority of your cases as your file size will be moderately large at most."
   ]
  },
  {
   "cell_type": "markdown",
   "id": "ea4a1237-9306-494b-b69e-b9a0003bee44",
   "metadata": {},
   "source": [
    "### Some summary:\n",
    "\n",
    "Opening a File:\n",
    "\n",
    "Modes:\n",
    "'r' = read\n",
    "'w' = write (overwrites the file if it exists)\n",
    "'a' = append (adds to the end of the file)\n",
    "'b' = binary mode (for non-text files)\n",
    "\n"
   ]
  },
  {
   "cell_type": "markdown",
   "id": "29d646c1-07f1-4e6a-9077-4b96dc620a66",
   "metadata": {},
   "source": [
    "## All the President's Speeches \n",
    "20 pts\n",
    "\n",
    "As we learned on Thursday, word frequency distribution is an intuitive way of determining the major themes, topics, or even preoccupations of the speech giver.\n",
    "\n",
    "Pull texts from different US presidents and use FreqDist() to gain insights into the data. This is a fairly open assignment. The goal is to identify something interesting! Pull the text, tokenize, remove stopwords, and plot the frequency of the words. That's the technical part. But much of this assignment is your ability to use word frequency to gain insights comparatively, intra or inter presidents. Let the python notebook from our lecture be your guide! The more interesting and creative the analysis, the more points you will receive. We might pick one student's analysis to be displayed in lecture, and that person will receive bonus credit for the work.\n",
    "\n",
    "For full credit, please demonstrate the use of read(), readlines(), and write() to a file in this assignment. Where you do it? Up to you!"
   ]
  },
  {
   "cell_type": "code",
   "execution_count": 9,
   "id": "3627fcae-fe53-4274-b15d-0096250020f1",
   "metadata": {},
   "outputs": [],
   "source": [
    "#Use as many cells as you need to. Your code here:\n",
    "import nltk\n",
    "from nltk import FreqDist\n",
    "from nltk.tokenize import word_tokenize\n",
    "from nltk.corpus import inaugural\n",
    "from nltk.corpus import stopwords\n",
    "stopwords=nltk.corpus.stopwords.words(\"english\")\n",
    "\n"
   ]
  },
  {
   "cell_type": "code",
   "execution_count": null,
   "id": "7ac96e3f-7df9-43ac-b44b-d633b1d1ac30",
   "metadata": {},
   "outputs": [],
   "source": [
    "print(inaugural.fileids())"
   ]
  },
  {
   "cell_type": "code",
   "execution_count": 5,
   "id": "40fa24c9",
   "metadata": {},
   "outputs": [],
   "source": [
    "name = 'All speeches.txt'\n",
    "\n",
    "with open(name, 'w') as f:  \n",
    "    for file in inaugural.fileids():\n",
    "        words = inaugural.words(file)\n",
    "        speech_text = ' '.join(words)\n",
    "        # Write the speech to the file with a newline at the end, no filename\n",
    "        f.write(speech_text + '\\n\\n')  # Double newline for separation between speeches"
   ]
  },
  {
   "cell_type": "code",
   "execution_count": null,
   "id": "88f75d7f",
   "metadata": {},
   "outputs": [],
   "source": [
    "with open(name, 'r') as file:\n",
    "    lines = file.readlines()  # Reads the file and returns a list of lines\n",
    "for line in lines:\n",
    "    print(line.strip())  # Strip removes newline characters"
   ]
  },
  {
   "cell_type": "code",
   "execution_count": null,
   "id": "02aad085",
   "metadata": {},
   "outputs": [],
   "source": [
    "with open(name, 'r') as file:\n",
    "    content = file.read()\n",
    "print(content)"
   ]
  },
  {
   "cell_type": "code",
   "execution_count": null,
   "id": "5a37e44b",
   "metadata": {},
   "outputs": [
    {
     "name": "stdout",
     "output_type": "stream",
     "text": [
      "[('the', 9555), (',', 7275), ('of', 7169), ('and', 5226), ('.', 5011), ('to', 4477), ('in', 2604), ('a', 2229), ('our', 2062), ('that', 1769), ('be', 1505), ('is', 1477), ('we', 1281), ('for', 1141), ('by', 1063), ('it', 1036), ('have', 1029), ('which', 1007), ('not', 972), ('will', 935)]\n"
     ]
    }
   ],
   "source": [
    "all_speeches = ' '.join([' '.join(inaugural.words(file)) for file in inaugural.fileids()])\n",
    "\n",
    "tokens = all_speeches.split()\n",
    "\n",
    "fdist = FreqDist(tokens)\n",
    "print(fdist.most_common(20))"
   ]
  },
  {
   "cell_type": "code",
   "execution_count": 16,
   "id": "76a698e5",
   "metadata": {},
   "outputs": [
    {
     "name": "stdout",
     "output_type": "stream",
     "text": [
      "[('I', 882), ('The', 634), ('people', 589), ('We', 557), ('us', 502), ('must', 373), ('It', 366), ('upon', 365), ('Government', 334), ('States', 331), ('world', 327), ('great', 326), ('may', 323), ('country', 316), ('shall', 312), ('every', 285), ('government', 264), ('one', 253), ('peace', 251), ('nation', 243)]\n",
      "[('I', 882), ('The', 634)]\n",
      "Axes(0.125,0.11;0.775x0.77)\n"
     ]
    },
    {
     "data": {
      "image/png": "[encoded data removed]",
      "text/plain": [
       "<Figure size 640x480 with 1 Axes>"
      ]
     },
     "metadata": {},
     "output_type": "display_data"
    }
   ],
   "source": [
    "clean_speeches = []\n",
    "\n",
    "for word in tokens:\n",
    "    if word not in stopwords and word.isalpha() == True:\n",
    "        clean_speeches.append(word)\n",
    "    else:\n",
    "        pass\n",
    "\n",
    "fdist2 = FreqDist(clean_speeches)\n",
    "print(fdist2.most_common(20))\n",
    "\n",
    "x=fdist2.most_common(2)\n",
    "print(x)\n",
    "print(fdist2.plot(20))\n",
    "\n"
   ]
  },
  {
   "cell_type": "markdown",
   "id": "66c3cd73-d4bc-4df3-a7d5-6ff8cd598ab9",
   "metadata": {},
   "source": [
    "### Scraping\n",
    "That's great that we can analyze text that is pre-processed in the NLTK package. But what if NLTK doesn't have the text we want? I mean as awesome as Jane Austen and inaugural texts are.... \n",
    "\n",
    "Text scraping, also known as web scraping or data scraping, refers to the process of automatically extracting text data from websites or other online sources. Over my 14 years, I have seen companies and websites realize that they should not just easily give away their text data. Scraping used to be easy. Data used to be easy to grab from the internet. It's gotten harder for some sites, but others allow access, or simply haven't gotten around to restricting it. **WHEN SCRAPING, PLEASE MAKE SURE YOU ARE NOT VIOLATING TERMS OF USE**. Usually, these apply to commercial use, and for research or academic purposes, there are fewer restrictions. \n",
    "\n",
    "Below is some code for you to scrape a website. The package is called \"Beautiful Soup\" I have given you code below to use.\n",
    "\n",
    "I have given you TWO websites to scrape. PLEASE PICK ONE of TWO. Either:\n",
    "\n",
    "A speech from Christine LaGrande on Sustainable Development Goal: Here is the url: https://www.imf.org/en/News/Articles/2018/09/17/sp09172018-the-case-for-the-sustainable-development-goals' OR\n",
    "\n",
    "\"Joint Statement of the Russian Federation and the People’s Republic of China on the International Relations Entering a New Era and the Global Sustainable Development\" Feb, 2022. Here is the url: http://www.en.kremlin.ru/supplement/5770"
   ]
  },
  {
   "cell_type": "code",
   "execution_count": null,
   "id": "07f523e7-2ffc-437d-9c49-4fbcb51293cd",
   "metadata": {},
   "outputs": [],
   "source": [
    "import requests\n",
    "from bs4 import BeautifulSoup\n",
    " \n",
    "base_url = 'https://www.imf.org/en/News/Articles/2018/09/17/sp09172018-the-case-for-the-sustainable-development-goals'\n",
    "r = requests.get(base_url)\n",
    "soup = BeautifulSoup(r.text)\n",
    "paragraphs = soup.find_all('p')\n",
    "\n",
    "for p in paragraphs:\n",
    "    print(p.get_text())"
   ]
  },
  {
   "cell_type": "markdown",
   "id": "c053edd6-7900-40cf-9bdb-b1c5b191f358",
   "metadata": {},
   "source": [
    "5 pts Modify the text above to write the text to a list called \"document\"\n"
   ]
  },
  {
   "cell_type": "code",
   "execution_count": null,
   "id": "ccd516db-0d54-434a-be1e-be0f06a3cf2e",
   "metadata": {},
   "outputs": [],
   "source": [
    "# Your code here:\n",
    " \n",
    "document = []\n",
    "\n",
    "base_url = 'https://www.imf.org/en/News/Articles/2018/09/17/sp09172018-the-case-for-the-sustainable-development-goals'\n",
    "r = requests.get(base_url)\n",
    "soup = BeautifulSoup(r.text, 'html.parser')\n",
    "paragraphs = soup.find_all('p')\n",
    "\n",
    "for p in paragraphs:\n",
    "    document.append(p.get_text().replace('\\n', ' ').strip())\n",
    "\n",
    "print(document)"
   ]
  },
  {
   "cell_type": "code",
   "execution_count": null,
   "id": "7fdb9fd0-ae4b-4608-82f7-9f34d216d86c",
   "metadata": {},
   "outputs": [],
   "source": [
    "5 pts Write the code to a file called \"document.txt\""
   ]
  },
  {
   "cell_type": "code",
   "execution_count": 22,
   "id": "1cb238d1-a64a-4a96-88d9-7d15569dc59d",
   "metadata": {},
   "outputs": [
    {
     "name": "stdout",
     "output_type": "stream",
     "text": [
      "Content written to document.txt successfully.\n"
     ]
    }
   ],
   "source": [
    "base_url = 'https://www.imf.org/en/News/Articles/2018/09/17/sp09172018-the-case-for-the-sustainable-development-goals'\n",
    "r = requests.get(base_url)\n",
    "soup = BeautifulSoup(r.text)\n",
    "paragraphs = soup.find_all('p')\n",
    "\n",
    "with open('document.txt', 'w') as file:\n",
    "    for p in paragraphs:\n",
    "        file.write(p.get_text())\n",
    "print(f\"Content written to {'document.txt'} successfully.\")"
   ]
  },
  {
   "cell_type": "markdown",
   "id": "8fa5d878-807a-42be-89e2-0eeabbe47c74",
   "metadata": {},
   "source": [
    "20 pts Clean the document of any extraneous elements, remove stopwords and perform a word frequency distribution analysis on your document, showing and then plotting the top 20 words"
   ]
  },
  {
   "cell_type": "code",
   "execution_count": 29,
   "id": "060d7c8f-c9e4-4f20-9937-49875f2d3826",
   "metadata": {},
   "outputs": [
    {
     "name": "stdout",
     "output_type": "stream",
     "text": [
      "[('economic', 12), ('IMF', 11), ('inequality', 11), ('SDGs', 10), ('global', 10), ('SDG', 10), ('countries', 10), ('percent', 10), ('Helen', 9), ('need', 9), ('also', 8), ('world', 8), ('would', 7), ('people', 7), ('social', 7), ('remarkable', 6), ('Let', 6), ('associated', 6), ('greater', 6), ('many', 6)]\n"
     ]
    },
    {
     "data": {
      "text/plain": [
       "<Axes: xlabel='Samples', ylabel='Counts'>"
      ]
     },
     "execution_count": 29,
     "metadata": {},
     "output_type": "execute_result"
    },
    {
     "data": {
      "image/png": "[encoded data removed]",
      "text/plain": [
       "<Figure size 640x480 with 1 Axes>"
      ]
     },
     "metadata": {},
     "output_type": "display_data"
    }
   ],
   "source": [
    "base_url = 'https://www.imf.org/en/News/Articles/2018/09/17/sp09172018-the-case-for-the-sustainable-development-goals'\n",
    "r = requests.get(base_url)\n",
    "soup = BeautifulSoup(r.text, 'html.parser')\n",
    "\n",
    "imf_text = ' '.join([p.get_text().replace('\\n', ' ') for p in soup.find_all('p')])\n",
    "\n",
    "imf_tokens = imf_text.split()\n",
    "\n",
    "clean_imf = [word for word in imf_tokens if word.lower() not in stopwords and word.isalpha()]\n",
    "\n",
    "fdist2 = FreqDist(clean_imf)\n",
    "print(fdist2.most_common(20))\n",
    "\n",
    "fdist2.plot(20)"
   ]
  },
  {
   "cell_type": "markdown",
   "id": "74243478-22c7-4fbc-b03e-95699c62c874",
   "metadata": {},
   "source": [
    "5 pts Please read the speech. What does the word frequency tell us, if anything, about the speech? Please answer in a short paragraph that tells me how the word frequency distribution is good at finding meaning, but also may miss the meaning that you gained from actually reading the article.\n",
    "\n",
    "Your paragraph here:\n",
    "\n",
    "\n"
   ]
  },
  {
   "cell_type": "markdown",
   "id": "02613f82-9c85-4581-a5e3-b194d7feeca1",
   "metadata": {},
   "source": [
    "### Intro to Summarization\n",
    "Summarization has been a thorny problem for data scientists over the past decade. There have been many approaches, but most, until ChatGPT and it's use of the transformers' architecture, they have been unsatisfactory. There are two main types of summarization:\n",
    "\n",
    "Extractive Summarization: Finding the most important sentences and rendering them verbatim.\n",
    "\n",
    "Abstractive Summarization: Taking the most important ideas from a document and generating a summary based on them\n",
    "\n",
    "There have been many different algorithms that have attempted summarization. Let's learn about one of the most used and deploy it in python."
   ]
  },
  {
   "cell_type": "markdown",
   "id": "4fb7cd69-83a1-400a-8820-2d0929b5d52d",
   "metadata": {},
   "source": [
    "#### Luhns Heuristic Method\n",
    "This is one of the earliest approaches of text summarization. This is related to our manual interpretation of the importance of word frequency in a document.Basically, just as we did, Luhn recognized that word frequency and word significance is highly correlated, but only \"important\" words. The assumption that the most important sentences are those with the most significant words. Here is a nice short article that explains the algo in an accessible way: https://blog.fastforwardlabs.com/2016/03/25/h.p.-luhn-and-the-heuristic-value-of-simplicity.html\n",
    "\n",
    "##### Sumy is a python package that has a lot of different commons summarization methods including LSA, LexRank and Luhn."
   ]
  },
  {
   "cell_type": "code",
   "execution_count": 30,
   "id": "e937ffbd-8fc9-4eff-91bc-dfdbcc4048e4",
   "metadata": {},
   "outputs": [
    {
     "name": "stdout",
     "output_type": "stream",
     "text": [
      "Requirement already satisfied: sumy in /opt/anaconda3/lib/python3.12/site-packages (0.11.0)\n",
      "Requirement already satisfied: docopt<0.7,>=0.6.1 in /opt/anaconda3/lib/python3.12/site-packages (from sumy) (0.6.2)\n",
      "Requirement already satisfied: breadability>=0.1.20 in /opt/anaconda3/lib/python3.12/site-packages (from sumy) (0.1.20)\n",
      "Requirement already satisfied: requests>=2.7.0 in /opt/anaconda3/lib/python3.12/site-packages (from sumy) (2.32.2)\n",
      "Requirement already satisfied: pycountry>=18.2.23 in /opt/anaconda3/lib/python3.12/site-packages (from sumy) (24.6.1)\n",
      "Requirement already satisfied: nltk>=3.0.2 in /opt/anaconda3/lib/python3.12/site-packages (from sumy) (3.9.1)\n",
      "Requirement already satisfied: chardet in /opt/anaconda3/lib/python3.12/site-packages (from breadability>=0.1.20->sumy) (3.0.4)\n",
      "Requirement already satisfied: lxml>=2.0 in /opt/anaconda3/lib/python3.12/site-packages (from breadability>=0.1.20->sumy) (5.2.1)\n",
      "Requirement already satisfied: click in /opt/anaconda3/lib/python3.12/site-packages (from nltk>=3.0.2->sumy) (8.1.7)\n",
      "Requirement already satisfied: joblib in /opt/anaconda3/lib/python3.12/site-packages (from nltk>=3.0.2->sumy) (1.4.2)\n",
      "Requirement already satisfied: regex>=2021.8.3 in /opt/anaconda3/lib/python3.12/site-packages (from nltk>=3.0.2->sumy) (2023.10.3)\n",
      "Requirement already satisfied: tqdm in /opt/anaconda3/lib/python3.12/site-packages (from nltk>=3.0.2->sumy) (4.66.4)\n",
      "Requirement already satisfied: charset-normalizer<4,>=2 in /opt/anaconda3/lib/python3.12/site-packages (from requests>=2.7.0->sumy) (2.0.4)\n",
      "Requirement already satisfied: idna<4,>=2.5 in /opt/anaconda3/lib/python3.12/site-packages (from requests>=2.7.0->sumy) (2.10)\n",
      "Requirement already satisfied: urllib3<3,>=1.21.1 in /opt/anaconda3/lib/python3.12/site-packages (from requests>=2.7.0->sumy) (2.2.2)\n",
      "Requirement already satisfied: certifi>=2017.4.17 in /opt/anaconda3/lib/python3.12/site-packages (from requests>=2.7.0->sumy) (2024.8.30)\n"
     ]
    }
   ],
   "source": [
    "#install sumy package\n",
    "!pip install sumy"
   ]
  },
  {
   "cell_type": "markdown",
   "id": "819dde4b-4a7a-45b6-a728-a93d7fc8ce06",
   "metadata": {},
   "source": [
    "Run the following code. Pass the document you want to summarize as a variable in the document part of the statement below. Use the variable that you saved the document into if it's something different.\n",
    "\n",
    "PlaintextParser.from_string(document,Tokenizer(\"english\"))"
   ]
  },
  {
   "cell_type": "code",
   "execution_count": null,
   "id": "b3d00b0b-10d6-49ea-9c27-24af0c3f3167",
   "metadata": {},
   "outputs": [
    {
     "name": "stdout",
     "output_type": "stream",
     "text": [
      "And she came to this conclusion with her legendary pragmatism—by “shining a light on the data.”', 'As she once said in an interview: \"If we’re all from the same group, from the same kind of background, if we’re given a problem we tend to get stuck at the same place.\n",
      "', 'So my fundamental point here is that if we are to succeed with the SDGs, we will need greater diversity in the business world—to raise economic dynamism and to help orient business and finance toward the longer-term investments needed for SDG success.\n"
     ]
    }
   ],
   "source": [
    "from sumy.summarizers.luhn import LuhnSummarizer\n",
    "from sumy.parsers.plaintext import PlaintextParser\n",
    "from sumy.nlp.tokenizers import Tokenizer\n",
    "\n",
    "parser = PlaintextParser.from_string(document, Tokenizer(\"english\"))\n",
    "\n",
    "summarizer_luhn = LuhnSummarizer()\n",
    "summary_1 =summarizer_luhn(parser.document,2)\n",
    "for sentence in summary_1:\n",
    "    print(sentence)"
   ]
  },
  {
   "cell_type": "markdown",
   "id": "ef1612c2-f4fb-4b53-b851-876a4176ce42",
   "metadata": {},
   "source": [
    "10 pts Evaluate the Luhn summarization below on the document you selected in the previous problem. How did it do?\n",
    "\n",
    "Your evaluation here:"
   ]
  },
  {
   "cell_type": "markdown",
   "id": "d781fdfc-13fe-4b5b-8c3d-a827304e86b5",
   "metadata": {},
   "source": [
    "10 pts Now look at the documentation for Sumy and use the Lex Rank summarization algo.\n"
   ]
  },
  {
   "cell_type": "code",
   "execution_count": 32,
   "id": "5de74fde-eb5e-459f-b041-632f8da2c6cf",
   "metadata": {},
   "outputs": [
    {
     "name": "stdout",
     "output_type": "stream",
     "text": [
      "Economic Dimension Let me begin with the economic dimension—where I would like to focus on the particular SDG challenges of the low-income countries.\n",
      "What is the role of the IMF in this?\n"
     ]
    }
   ],
   "source": [
    "# Your code here:\n",
    "from sumy.summarizers.lex_rank import LexRankSummarizer\n",
    "from sumy.parsers.plaintext import PlaintextParser\n",
    "from sumy.nlp.tokenizers import Tokenizer\n",
    "\n",
    "document_as_one = ' '.join(document)\n",
    "\n",
    "# Creating a parser and tokenizer for the text\n",
    "parser = PlaintextParser.from_string(document_as_one, Tokenizer(\"english\"))\n",
    "\n",
    "# Using LexRankSummarizer to summarize the document\n",
    "summarizer_lex_rank = LexRankSummarizer()\n",
    "\n",
    "# Summarizing the document to 2 sentences\n",
    "summary_lex_rank = summarizer_lex_rank(parser.document, 2)\n",
    "\n",
    "# Printing the sentences in the summary\n",
    "for sentence in summary_lex_rank:\n",
    "    print(sentence)"
   ]
  },
  {
   "cell_type": "markdown",
   "id": "01d55601-95b4-4f97-8014-a22e0524cd11",
   "metadata": {},
   "source": [
    "How does Lex Rank work? Explain it to me and evaluate the differences in the two algos.\n",
    "\n",
    "5 pts Your explanation and evaluation here:\n",
    "LexRank is a graph-based algorithm that ranks sentences by their similarity and importance within the document, applying a variation of PageRank to identify the most central sentences. It captures relationships between sentences and is well-suited for summarizing longer, more complex texts where sentence interconnectivity is crucial. In contrast, the Luhn algorithm focuses on word frequency and clustering within individual sentences, scoring sentences based on how many important words they contain. Luhn is simpler and faster but treats sentences in isolation, making it more appropriate for shorter texts or when a quick, keyword-based summary is needed. While LexRank excels in thematic coherence, Luhn is more direct in identifying key content based on word importance.\n"
   ]
  },
  {
   "cell_type": "markdown",
   "id": "fad17b90-a828-4306-a725-636acfefb776",
   "metadata": {},
   "source": [
    "#### Using ChatGPT for Summarization\n",
    "Now use Chatgpt to perform extractive and abstractive summarization on your document. Copy and paste into prompt. You will see that the document may be too long, so you may have to break the document into parts. Does where you break your document impact the summarization?\n",
    "\n",
    "5 pts Copy and paste your prompt and the ChatGPT extractive summarization here:\n",
    "\n",
    "\"The speaker delivers an inaugural lecture in honor of Dame Helen Alexander, reflecting on her remarkable qualities—intelligence, compassion, and leadership—and her deep commitment to education, healthcare, and sustainable development. The speaker highlights Helen’s legacy, particularly in promoting gender equity and diversity in leadership.\n",
    "\n",
    "The speech focuses on the Sustainable Development Goals (SDGs), addressing four key dimensions:\n",
    "\n",
    "Economic: The need to support low-income countries in achieving the SDGs, particularly in education, healthcare, and infrastructure, despite challenges such as rising debt.\n",
    "Social: The importance of addressing income inequality and gender inequality, noting how inclusion can boost growth and development.\n",
    "Environmental: The urgent need to combat climate change through initiatives like carbon pricing and sustainable practices.\n",
    "Governance: The role of strong institutions in achieving SDGs, particularly in fighting corruption and promoting transparency.\n",
    "The speaker concludes by celebrating Helen's lasting legacy, encouraging the audience to pursue these goals for future generations.\""
   ]
  },
  {
   "cell_type": "markdown",
   "id": "731da82e-7aeb-48b8-8a82-a6455b41232e",
   "metadata": {},
   "source": [
    "5 pts Copy and paste your prompt and the ChatGPT abstractive summarization here:\n",
    "\n"
   ]
  },
  {
   "cell_type": "markdown",
   "id": "5a8c850c-bf83-412c-b1ee-ee48e6b80550",
   "metadata": {},
   "source": [
    "5 pts Does breaking the document in different places impact the summarization? Answer here:\n",
    "\n",
    "Breaking the document in different places can impact the summarization because it may disrupt the flow of information and context. When the entire text is provided at once, it allows for a more cohesive and comprehensive summary. If the document is sent in parts, the summarization might focus on individual sections without fully capturing the overall structure and key themes of the entire text.\n"
   ]
  },
  {
   "cell_type": "markdown",
   "id": "b338a145-bd59-4039-a7e8-5de9d14f0b73",
   "metadata": {},
   "source": [
    "5 pts Watch this video, and be prepared for a quiz on it! \n",
    "https://www.youtube.com/watch?v=wjZofJX0v4M&list=PLZHQObOWTQDNU6R1_67000Dx_ZCJB-3pi&index=5\n"
   ]
  }
 ],
 "metadata": {
  "kernelspec": {
   "display_name": "base",
   "language": "python",
   "name": "python3"
  },
  "language_info": {
   "codemirror_mode": {
    "name": "ipython",
    "version": 3
   },
   "file_extension": ".py",
   "mimetype": "text/x-python",
   "name": "python",
   "nbconvert_exporter": "python",
   "pygments_lexer": "ipython3",
   "version": "3.12.4"
  }
 },
 "nbformat": 4,
 "nbformat_minor": 5
}
