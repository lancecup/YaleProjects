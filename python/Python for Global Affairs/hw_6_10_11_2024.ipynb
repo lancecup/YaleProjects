{
 "cells": [
  {
   "cell_type": "markdown",
   "id": "aac5bcfb-020e-44b4-a0f1-7a8ca177fa1b",
   "metadata": {},
   "source": [
    "# HW 6\n",
    "\n",
    "1. Translating Sentences:\n",
    "10 pts\n",
    "Write a function that translates sentences. The function takes two arguements, the sentence to be translated and tthe targeted language and returns the translated sentence."
   ]
  },
  {
   "cell_type": "code",
   "execution_count": null,
   "id": "f089667a-5110-4b19-9c09-71c2fb8f8f12",
   "metadata": {},
   "outputs": [
    {
     "data": {
      "text/plain": [
       "'Hacer una carrera de la humanidad.Comprométate con la noble lucha por la igualdad de derechos.Harás una mejor persona de ti mismo, una nación más grande de tu país y un mundo más fino para vivir.'"
      ]
     },
     "execution_count": 2,
     "metadata": {},
     "output_type": "execute_result"
    }
   ],
   "source": [
    "from googletrans import Translator\n",
    "from googletrans import LANGUAGES\n",
    "\n",
    "def list_supported_languages():\n",
    "    \"\"\"\n",
    "    Returns a dictionary of supported languages by Google Translate.\n",
    "\n",
    "    The dictionary keys are language codes (ISO 639-1 format), \n",
    "    and the values are the corresponding language names.\n",
    "\n",
    "    Example:\n",
    "        {'en': 'english', 'fr': 'french', 'es': 'spanish', ...}\n",
    "\n",
    "    Returns:\n",
    "        dict: A dictionary where keys are language codes and values are language names\n",
    "    \"\"\"\n",
    "    return LANGUAGES\n",
    "\n",
    "def translation(sentence, language):\n",
    "    \"\"\"\n",
    "    Translates a given sentence into the specified language using Google Translate.\n",
    "\n",
    "    Arguments:\n",
    "        sentence (str): The sentence to be translated\n",
    "        language (str): The language code of the target language (e.g., 'fr' for French)\n",
    "\n",
    "    Returns:\n",
    "        str: The translated sentence\n",
    "    \n",
    "    Example:\n",
    "        translation(\"Hello\", \"fr\")  # Returns \"Bonjour\"\n",
    "    \"\"\"\n",
    "    translator = Translator()\n",
    "    translated_text = translator.translate(sentence, dest=language)\n",
    "    return translated_text.text\n",
    "\n",
    "# Example usage\n",
    "supported_languages = list_supported_languages()\n",
    "for code, lang in supported_languages.items():\n",
    "    # Print each supported language and its corresponding code in a readable format\n",
    "    print(f\"{lang.capitalize()} ({code})\")\n",
    "\n",
    "# Get a sentence to be translated from the user\n",
    "question = input('Give me a sentence: ')\n",
    "\n",
    "# Get the target language code from the user\n",
    "lang = input('Pick from a language code above: ')\n",
    "\n",
    "# Translate the input sentence into the selected language\n",
    "translated_sentence = translation(question, lang)\n",
    "\n",
    "# Output the translated sentence to the user\n",
    "print(f'Translated sentence: {translated_sentence}')\n",
    "\n",
    "# Your code here:\n",
    "\n",
    "# Translate the given sentence into Spanish ('es' is the language code for Spanish)\n",
    "en_es = translation('''Make a career of humanity. Commit yourself to the noble struggle for equal rights.\n",
    "You will make a better person of yourself, a greater nation of your country, and a finer world to live in.''', 'es')\n",
    "\n",
    "# Output the translated sentence to the user\n",
    "print(f'Translated sentence: {en_es}')"
   ]
  },
  {
   "cell_type": "markdown",
   "id": "acb9b1ca-0b7a-4367-b0d4-0eec50b068d8",
   "metadata": {},
   "source": [
    "Take the following sentence and translate it from English to Spanish.\n",
    "\"Make a career of humanity. Commit yourself to the noble struggle for equal rights. You will make a better person of yourself, a greater nation of your country, and a finer world to live in.\""
   ]
  },
  {
   "cell_type": "markdown",
   "id": "daf0373e-686c-4372-a49c-a583620161c3",
   "metadata": {},
   "source": [
    "2. Now translate it from Spanish to Chinese\n",
    "2.5pts"
   ]
  },
  {
   "cell_type": "code",
   "execution_count": null,
   "id": "ed3f5d0d-9129-4321-b1a2-43b14ccfd211",
   "metadata": {},
   "outputs": [
    {
     "data": {
      "text/plain": [
       "'从事人类的职业。致力于争取平等权利的崇高斗争。您将使自己成为一个更好的人，一个更大的国家和一个更美好的世界。'"
      ]
     },
     "execution_count": 6,
     "metadata": {},
     "output_type": "execute_result"
    }
   ],
   "source": [
    "# Your code here:\n",
    "\n",
    "# Translate the given Spanish sentence into Simplified Chinese ('zh-cn' is the language code for Simplified Chinese)\n",
    "es_ch = translation(en_es, 'zh-cn')\n",
    "\n",
    "# Output the translated sentence to the user\n",
    "print(f'Translated sentence: {es_ch}')"
   ]
  },
  {
   "cell_type": "markdown",
   "id": "5a0f2361-5bd0-4bcb-9dc4-7ee6630cbabd",
   "metadata": {},
   "source": [
    "3. Now translate it from Chinese back to English.\n",
    "2.5pts"
   ]
  },
  {
   "cell_type": "code",
   "execution_count": null,
   "id": "156fe134-2df9-4210-8444-6822b00aed6e",
   "metadata": {},
   "outputs": [
    {
     "data": {
      "text/plain": [
       "'Make a career of humanity. Commit yourself to the noble struggle for equal rights. You will make a better person of yourself, a greater nation of your country, and a finer world to live in.'"
      ]
     },
     "execution_count": 7,
     "metadata": {},
     "output_type": "execute_result"
    }
   ],
   "source": [
    "# Your code here:\n",
    "\n",
    "# Translate the given Spanish sentence into English ('en' is the language code for English)\n",
    "ch_en = translation(es_ch, 'en')\n",
    "\n",
    "# Output the translated sentence to the user\n",
    "print(f'Translated sentence: {ch_en}')"
   ]
  },
  {
   "cell_type": "markdown",
   "id": "5f22fb28-eb8c-4394-b291-22f695d04469",
   "metadata": {},
   "source": [
    "4. Now do the same thing with ChatGPT.\n",
    "\n",
    "2.5pts\n",
    "Eng to Sp: Sp to Chinese: Chinese to Eng:\n",
    "\n",
    "Step 1: English to Spanish\n",
    "\"Haz una carrera de la humanidad. Comprométete con la noble lucha por los derechos iguales. Te harás una mejor persona, una nación más grande de tu país y un mundo mejor para vivir.\"\n",
    "\n",
    "Step 2: Spanish to Chinese (Simplified)\n",
    "\"从事人类事业。致力于为平等权利而进行的崇高斗争。你会让自己成为一个更好的人，让你的国家成为一个更伟大的国家，让世界更美好。\"\n",
    "\n",
    "Step 3: Chinese to English\n",
    "\"Pursue a career in humanity. Devote yourself to the noble struggle for equal rights. You will make yourself a better person, make your country a greater nation, and make the world a better place.\"\n",
    "\n"
   ]
  },
  {
   "cell_type": "markdown",
   "id": "95f22fc5-75b5-4e6e-8c2e-00291f468035",
   "metadata": {},
   "source": [
    "5. Describe the difference in quality and features of output:\n",
    "2.5pts"
   ]
  },
  {
   "cell_type": "markdown",
   "id": "90f45014-5aa0-4fab-b48f-a468d1261f06",
   "metadata": {},
   "source": [
    "Your answer here:\n"
   ]
  },
  {
   "cell_type": "markdown",
   "id": "2dcf5ad4-25ec-4eef-bc6a-bd480e64b65a",
   "metadata": {},
   "source": [
    " ## 7.  The Trump Card\n",
    "Here is a link to a speech made by former President Trump on January 6: https://www.npr.org/2021/02/10/966396848/read-trumps-jan-6-speech-a-key-part-of-impeachment-trial. Not all of the text is his speech. Some of the text is the analysis. Please extract Donald Trump's speech only, remove stopwords and perform a word frequency distribution and visualize it.\n",
    "20pts"
   ]
  },
  {
   "cell_type": "code",
   "execution_count": 9,
   "id": "b2584746",
   "metadata": {},
   "outputs": [],
   "source": [
    "import requests\n",
    "import nltk\n",
    "from bs4 import BeautifulSoup\n",
    "from nltk.tokenize import word_tokenize\n",
    "from nltk.corpus import stopwords\n",
    "from nltk import FreqDist\n"
   ]
  },
  {
   "cell_type": "code",
   "execution_count": null,
   "id": "4efcbb23-4d40-4e01-9d89-257d8024c15e",
   "metadata": {},
   "outputs": [],
   "source": [
    "# Define the URL for the article\n",
    "base_url = 'https://www.npr.org/2021/02/10/966396848/read-trumps-jan-6-speech-a-key-part-of-impeachment-trial'\n",
    "\n",
    "# Send a GET request to the URL and store the response\n",
    "r = requests.get(base_url)\n",
    "\n",
    "# Parse the HTML content of the response using BeautifulSoup\n",
    "soup = BeautifulSoup(r.text)\n",
    "\n",
    "# Find all paragraph tags <p> in the HTML and extract their text content\n",
    "paragraphs = soup.find_all('p')\n",
    "\n",
    "# Empty list to store the words\n",
    "document = []\n",
    "\n",
    "# Loop through paragraphs from index 10 to 273 (assuming 10-273 is the desired range for the speech content)\n",
    "for paragraph in paragraphs[10:273]:\n",
    "    speech = paragraph.get_text().strip()  # Extract text from the paragraph and strip any surrounding whitespace\n",
    "    words = word_tokenize(speech)  # Tokenize the paragraph into words using word_tokenize() from NLTK\n",
    "    document.extend(words)  # Add the tokenized words to the document list\n",
    "\n",
    "# Print the final document list, which contains all words from the selected paragraphs\n",
    "print(document)"
   ]
  },
  {
   "cell_type": "code",
   "execution_count": 11,
   "id": "7fba095b",
   "metadata": {},
   "outputs": [
    {
     "name": "stdout",
     "output_type": "stream",
     "text": [
      "[('people', 80), ('going', 73), ('want', 67), ('know', 58), ('get', 49), ('country', 43), ('ballots', 43), ('got', 42), ('votes', 41), ('election', 40), ('back', 40), ('go', 38), ('said', 37), ('state', 36), ('one', 34), ('like', 32), ('way', 32), ('say', 31), ('right', 29), ('vote', 29)]\n"
     ]
    },
    {
     "data": {
      "text/plain": [
       "<Axes: xlabel='Samples', ylabel='Counts'>"
      ]
     },
     "execution_count": 11,
     "metadata": {},
     "output_type": "execute_result"
    },
    {
     "data": {
      "image/png": "[encoded data removed]",
      "text/plain": [
       "<Figure size 640x480 with 1 Axes>"
      ]
     },
     "metadata": {},
     "output_type": "display_data"
    }
   ],
   "source": [
    "# Retrieve English stopwords and extend with additional custom stopwords\n",
    "stopwords_list = stopwords.words(\"english\")\n",
    "new_stops = [\",\", \"I\", \".\", \";\", \"-\", \":\", \"-\", \"©\",\"?\", \"’\", \"``\",\"'s\",\"n't\",\"'re\",\"''\",\"'ve\"]  # Including additional symbols to remove\n",
    "stopwords_list.extend(new_stops)\n",
    "\n",
    "# Filter out stopwords (case-insensitive) from the tokenized words\n",
    "clean_trump = [word for word in document if word.lower() not in stopwords_list]\n",
    "\n",
    "# Create a frequency distribution of the cleaned words\n",
    "fdist = FreqDist(clean_trump)\n",
    "\n",
    "# Print the 20 most common words\n",
    "x = fdist.most_common(20)\n",
    "print(x)\n",
    "\n",
    "# Plot the frequency distribution of the top 20 words\n",
    "fdist.plot(20)"
   ]
  },
  {
   "cell_type": "markdown",
   "id": "b78b87a8-223c-4dc0-a838-523871fb3a75",
   "metadata": {},
   "source": [
    "8. Here is a link to a github repo that contains Donald Trump's speeches: https://github.com/ryanmcdermott/trump-speeches/blob/master/speeches.txt\n",
    "   \n",
    "What are the 10 most common things Donald Trump \"loves?\"\n",
    "10pts"
   ]
  },
  {
   "cell_type": "code",
   "execution_count": 13,
   "id": "f78b97a7-618d-4fc2-969d-f72cdb7fd3d4",
   "metadata": {},
   "outputs": [
    {
     "name": "stdout",
     "output_type": "stream",
     "text": [
      "you: 7 times\n",
      "it: 7 times\n",
      "them: 6 times\n",
      "the people: 5 times\n",
      "you all: 5 times\n",
      "China: 4 times\n",
      "you too: 4 times\n",
      "Mexico: 3 times\n",
      "the Hispanics: 3 times\n",
      "d it: 3 times\n"
     ]
    }
   ],
   "source": [
    "#Your code and answer here:\n",
    "from nltk.tokenize import sent_tokenize\n",
    "import requests\n",
    "\n",
    "# Download the speeches.txt from the GitHub repository\n",
    "url = \"https://raw.githubusercontent.com/ryanmcdermott/trump-speeches/master/speeches.txt\"\n",
    "response = requests.get(url)\n",
    "speeches_text = response.text\n",
    "\n",
    "# Tokenize the text into sentences\n",
    "lines = sent_tokenize(speeches_text)\n",
    "\n",
    "# List to store phrases after 'I love'\n",
    "lovely = []\n",
    "\n",
    "# Loop through sentences and find phrases after 'I love'\n",
    "for sentence in lines:\n",
    "    if 'I love' in sentence:\n",
    "        start = sentence.find('I love') + len('I love')  # Find the start index of the phrase after 'I love'\n",
    "        end = sentence.find('.', start)  # Correctly refer to 'sentence', find sentence-ending punctuation\n",
    "        if end == -1:  # If no punctuation is found, take the rest of the sentence\n",
    "            end = len(sentence)\n",
    "        trump_love = sentence[start:end].strip()  # Extract and clean the phrase\n",
    "        lovely.append(trump_love)  # Add the extracted phrase to the list\n",
    "\n",
    "# Dictionary to store counts of phrases\n",
    "love_counts = {}\n",
    "\n",
    "# Count occurrences of each phrase in 'lovely'\n",
    "for loved_thing in lovely:\n",
    "    if loved_thing in love_counts:\n",
    "        love_counts[loved_thing] += 1  # Increment count if phrase already exists\n",
    "    else:\n",
    "        love_counts[loved_thing] = 1  # Initialize count for new phrases\n",
    "\n",
    "# Get the top 10 most loved phrases\n",
    "top_10_loves = sorted(love_counts.items(), key=lambda x: x[1], reverse=True)[:10]\n",
    "\n",
    "# Display the result\n",
    "for item, count in top_10_loves:\n",
    "    print(f'{item}: {count} times')"
   ]
  },
  {
   "cell_type": "markdown",
   "id": "c07782a4-2931-4e23-bb33-b9fab29182ca",
   "metadata": {},
   "source": [
    "9. Which are the top 5 countries Trump mentions in his speeches, besides America or the United States of America?\n",
    "10pts"
   ]
  },
  {
   "cell_type": "code",
   "execution_count": 14,
   "id": "bdb639d1-6f9e-444c-8248-75b74bf569c7",
   "metadata": {},
   "outputs": [
    {
     "name": "stdout",
     "output_type": "stream",
     "text": [
      "China: 201 times\n",
      "Mexico: 160 times\n",
      "Israel: 86 times\n",
      "Iraq: 72 times\n",
      "Japan: 69 times\n"
     ]
    }
   ],
   "source": [
    "#Your code and answer here:\n",
    "import requests\n",
    "import pycountry\n",
    "\n",
    "# Download the speeches.txt from the GitHub repository\n",
    "url = \"https://raw.githubusercontent.com/ryanmcdermott/trump-speeches/master/speeches.txt\"\n",
    "response = requests.get(url)\n",
    "speeches_text = response.text.lower()  # Convert text to lowercase for case-insensitive matching\n",
    "\n",
    "# Define a list of countries (convert country names to lowercase for consistent matching)\n",
    "countries = [country.name.lower() for country in pycountry.countries]\n",
    "\n",
    "# Create an empty dictionary to store the counts of each country\n",
    "country_counts = {}\n",
    "\n",
    "# Loop through the list of countries and count their occurrences in the text\n",
    "for country in countries:\n",
    "    count = speeches_text.count(country)  # Count how many times the country appears\n",
    "    if count > 0:\n",
    "        country_counts[country] = count\n",
    "\n",
    "# Sort the dictionary by count in descending order and exclude 'america' and 'united states'\n",
    "sorted_countries = sorted(\n",
    "    [(country, count) for country, count in country_counts.items() if country not in ['america', 'united states']],\n",
    "    key=lambda x: x[1], reverse=True\n",
    ")\n",
    "\n",
    "# Get the top 5 most mentioned countries\n",
    "top_5_countries = sorted_countries[:5]\n",
    "\n",
    "# Display the result\n",
    "for country, count in top_5_countries:\n",
    "    print(f'{country.title()}: {count} times')\n"
   ]
  },
  {
   "cell_type": "markdown",
   "id": "025cea9c-b4d6-47a4-8910-826c521d594b",
   "metadata": {},
   "source": [
    "\n",
    " In class we talked about tokenizing sentences into words, or parsing texts by single words(unigrams), or two words(bigrams). But you can also tokenize by sentences. Here is some sample code:\n"
   ]
  },
  {
   "cell_type": "code",
   "execution_count": 15,
   "id": "5b9af68c-a8e1-4d1e-ab49-e791d071bf3a",
   "metadata": {},
   "outputs": [
    {
     "name": "stdout",
     "output_type": "stream",
     "text": [
      "['This is the first sentence.', 'This is the second sentence.']\n"
     ]
    }
   ],
   "source": [
    "import nltk\n",
    "from nltk.tokenize import sent_tokenize\n",
    "\n",
    "text = \"This is the first sentence. This is the second sentence.\"\n",
    "sentences = sent_tokenize(text)\n",
    "\n",
    "print(sentences)"
   ]
  },
  {
   "cell_type": "markdown",
   "id": "7481e654-f253-4573-948b-0cf63d2b22c7",
   "metadata": {},
   "source": [
    "In class we talked about final projects and I suggested one of the interesting uses of this technology is to consider conventional thinking on some subject and use Python to more comprehensively and critically evaluate that thinking. We touched on \"political thinking\" as a good place to apply Python language analyses. In political speeches, certain sentences or phrases are repeated to show a candidates coaching, focus or in marketing terms, \"messaging.\" \n",
    "\n",
    "Here is an analyis from https://www.vox.com/2016/8/18/12423688/donald-trump-speech-style-explained-by-linguists of the \"salesman\" techniques that Trump uses: \"Trump’s speeches can be appealing because he uses a lot of salesmen’s tricks. Lakoff, for his part, has an explanation for why Trump’s style of speaking is so appealing to many. Many of Trump’s most famous catchphrases are actually versions of time-tested speech mechanisms that salesmen use. They’re powerful because they help shape our unconscious. Take, for example, Trump’s frequent use of \"Many people are saying...\" or \"Believe me\" — often right after saying something that is baseless or untrue. This tends to sound more trustworthy to listeners than just outright stating the baseless claim, since Trump implies that he has direct experience with what he’s talking about. At a base level, Lakoff argues, people are more inclined to believe something that seems to have been shared. Or when Trump keeps calling Clinton \"crooked,\" or keeps referring to terrorists as \"radical Muslims,\" he’s strengthening the association through repetition. He also calls his supporters \"folks,\" to show he is one of them (though many politicians employ this trick). Trump doesn’t repeat phrases and adjectives because he is stalling for time, Liberman says; for the most part, he’s providing emphasis and strengthening the association. These are normal techniques, particularly in conversational speech. \"Is he reading cognitive science? No. He has 50 years of experience as a salesman who doesn’t care who he is selling to,\" Lakoff says. On this account, Trump uses similar methods in his QVC-style pitch of steaks and vodka as when he talks about his plan to stop ISIS.\"He has been doing this for a very long time as a salesman — that’s what he is best at,\" Lakoff says.\"  \n",
    "*This is not to say I agree or disagree with this analysis.*  This is just one example of what we touched on in class. "
   ]
  },
  {
   "cell_type": "markdown",
   "id": "a96e1cb4-90b1-4f3e-9948-6ec6935401ea",
   "metadata": {},
   "source": [
    "10. Perform a frequency analysis that provides evidence for or against the assertion made in the Vox article.\n",
    "Consider tokenizing by unigram (one word), bigram(two words), trigram(three words) or more, or whole sentences or multiple approaches that help us understand the most common Trump linguistic characteristcs. Use your evidence and words to describe what you found. This is a fairly open ask. Don't just execute code. Tell me and show me something interesting!\n",
    "20pts"
   ]
  },
  {
   "cell_type": "code",
   "execution_count": 16,
   "id": "68933a0b-53da-465c-99f3-5c4bf1a3212b",
   "metadata": {},
   "outputs": [
    {
     "data": {
      "image/png": "[encoded data removed]",
      "text/plain": [
       "<Figure size 1000x600 with 1 Axes>"
      ]
     },
     "metadata": {},
     "output_type": "display_data"
    }
   ],
   "source": [
    "#Your code and response here:\n",
    "# Import necessary modules\n",
    "import nltk\n",
    "from nltk.probability import FreqDist\n",
    "from nltk.tokenize import word_tokenize\n",
    "from nltk.corpus import inaugural\n",
    "import requests\n",
    "import matplotlib.pyplot as plt\n",
    "\n",
    "# Define the punctuation marks we want to analyze\n",
    "punctuation_marks = ['.', '?', '!']\n",
    "\n",
    "# Function to calculate relative frequency of punctuation marks\n",
    "def get_relative_punctuation_frequencies(text):\n",
    "    # Tokenize the text\n",
    "    words = word_tokenize(text.lower())  # Convert to lowercase for consistency\n",
    "    # Filter for punctuation marks\n",
    "    punctuations = [mark for mark in words if mark in punctuation_marks]\n",
    "    # Create frequency distribution of the punctuation marks\n",
    "    fdist = FreqDist(punctuations)\n",
    "    # Total count of all punctuation marks\n",
    "    total_punctuations = sum(fdist[mark] for mark in punctuation_marks)\n",
    "    # Calculate relative frequency for each punctuation mark\n",
    "    if total_punctuations > 0:\n",
    "        return [fdist[mark] / total_punctuations for mark in punctuation_marks]\n",
    "    else:\n",
    "        return [0, 0, 0]  # Return 0 frequency if no punctuations found\n",
    "\n",
    "# Fetch Trump's speeches\n",
    "url = \"https://raw.githubusercontent.com/ryanmcdermott/trump-speeches/master/speeches.txt\"\n",
    "response = requests.get(url)\n",
    "trump_text = response.text\n",
    "\n",
    "# Calculate relative frequencies for Trump's speeches\n",
    "trump_relative_frequencies = get_relative_punctuation_frequencies(trump_text)\n",
    "\n",
    "# Fetch and combine all other presidents' inaugural speeches\n",
    "inaugural_text = ' '.join([' '.join(inaugural.words(file)) for file in inaugural.fileids() if 'Trump' not in file])\n",
    "\n",
    "# Calculate relative frequencies for other presidents' speeches\n",
    "other_presidents_relative_frequencies = get_relative_punctuation_frequencies(inaugural_text)\n",
    "\n",
    "# Plot the comparison\n",
    "plt.figure(figsize=(10, 6))\n",
    "x = range(len(punctuation_marks))\n",
    "plt.bar(x, trump_relative_frequencies, width=0.4, label=\"Trump\", color=\"teal\", align='center')\n",
    "plt.bar([i + 0.4 for i in x], other_presidents_relative_frequencies, width=0.4, label=\"Other Presidents\", color=\"orange\", align='center')\n",
    "plt.xticks([i + 0.2 for i in x], punctuation_marks)\n",
    "plt.xlabel(\"Punctuation Marks\")\n",
    "plt.ylabel(\"Relative Frequency\")\n",
    "plt.title(\"Relative Frequency of Punctuation Marks: Trump vs Other Presidents\")\n",
    "plt.legend()\n",
    "plt.show()\n"
   ]
  },
  {
   "cell_type": "markdown",
   "id": "7e0bd617-57e6-4f8f-bf44-3aba3ebb671c",
   "metadata": {},
   "source": [
    "## 6. Mired in Mango Madness ##\n",
    "20pts\n",
    "\n",
    "Congratulations! In your last semester at Yale, you got a job at the World Bank ! \n",
    "\n",
    "Your first assignment is to address the dearth of good data in Mali on Mango quality and production. Your boss put you on a plane to Mali during the harvest season. You are excited, not only because your boss is annoying and wears too much cologne, but international travel is part of the excitement of an international job. You are excited to see the Great Mosque of Djenne, to watch the sunset from the Bandiagara Cliffs, and to dance the night away to  at Le Byblos. Oh yeah, there is the work too. After a particular \"rough\" night you meet with your colleagues at the office.  You thought you'd be able to just get by making eye contact and nodding while they did most of the work. After all, you are new to the role. No such luck. Your colleagues are thrilled that you can solve their problems by creating an automated call center. Their exact words are, \"The Harvard grad ended up quitting, I'm glad we have someone from Yale here to make things right.\"\n",
    "\n",
    "You are given an office and a computer. You may have slightly overstated your Python coding skills to get the job, but too late now. They ask if you mind if they watch you code. You tell them that you prefer to work alone, although ask them to lunch later to soften the push back. After the initial panic and hangover subsides you think back to your days in intermediate python at Yale, the encouraging words of your caring but demanding prof,  and then a light flashes in your mind and you think, \"I got this.\" \n",
    "\n",
    "You've been tasked with the goal of setting up an automated call center to get data on current market prices, production and quality. There are growers who are both collectives who report these factors, and also smaller growers! Unfortunately, some of these are incentivized to underreport production and prices under the assumption that they will receive more foreign aid. Not all of them though! It's estimated that 10-20% of the self-reporting is innacurate. Callers call the center. Words are processed from speech to text. Text is processed, converted back to speech and then communicated to the caller. \n",
    "\n",
    "There are a few challenges you face: \n",
    "1. The speech to text algo was trained on French, but most of the farmers who call in speak Bambara. You must translate from Bambara to French, and then French to English, because your boss doesn't speak French and wants things in English and is completely unreasonable.\n",
    "2. Sometimes the call just ends, sometimes words are sporadic, sometimes the algo. confuses the word \"child\" and the word \"mango\"\n",
    "3. The call in number was once the number for the infant health hotline. People still use the number to try to get immediate emergency care for their infant. Their calls must be redirected or children could die and it would be your fault, not to mention an international incident.\n",
    "4. The call number is often called by fans and musicians who are given the number by directory assistance because there is a music production company called Mango Mali, a fledgling world music group that markets music from Mali to France.\n",
    "5. You must try to identify who is lying about their crop yield quality and prices.\n",
    "\n",
    "\n",
    "**YOUR MISSION**\n",
    "\n",
    "Write code that accepts the number as an input and then collects user input(in Bambara), translates it to French, and then outputs the data to a csv file in English. Please make sure you write code that addresses the challenges above (1-5). \n",
    "Create use cases to demonstrate that your code works and that you have addressed the basic use case, and that you have addressed challenges 1-5."
   ]
  },
  {
   "cell_type": "code",
   "execution_count": 19,
   "id": "beef55f1-a398-4d34-9647-bf77a6735ad0",
   "metadata": {},
   "outputs": [
    {
     "name": "stdout",
     "output_type": "stream",
     "text": [
      "Redirecting to infant health hotline...\n",
      "Ending call center session.\n"
     ]
    }
   ],
   "source": [
    "import csv\n",
    "import random\n",
    "\n",
    "# Placeholder function for translating Bambara to French (mock function)\n",
    "def translate_bambara_to_french(bambara_text):\n",
    "    french_text = bambara_text + \" (translated to French)\"\n",
    "    return french_text\n",
    "\n",
    "# Placeholder function for translating French to English (mock function)\n",
    "def translate_french_to_english(french_text):\n",
    "    english_text = french_text + \" (translated to English)\"\n",
    "    return english_text\n",
    "\n",
    "# Function to determine the call type based on input\n",
    "def determine_call_type(call_reason):\n",
    "    emergency_keywords = [\"child\", \"infant\", \"emergency\", \"doctor\", \"help\"]\n",
    "    music_keywords = [\"music\", \"song\", \"artist\", \"concert\"]\n",
    "    \n",
    "    if any(keyword in call_reason.lower() for keyword in emergency_keywords):\n",
    "        return \"emergency\"\n",
    "    elif any(keyword in call_reason.lower() for keyword in music_keywords):\n",
    "        return \"music_fan\"\n",
    "    return \"farmer\"\n",
    "\n",
    "# Function to detect potential fraud in reports (mock)\n",
    "def detect_fraud_in_report(report_data):\n",
    "    fraud_keywords = [\"low\", \"poor\", \"small\", \"insufficient\"]\n",
    "    if any(keyword in report_data.lower() for keyword in fraud_keywords):\n",
    "        return \"potential fraud detected\"\n",
    "    return \"no fraud detected\"\n",
    "\n",
    "# Function to process a call\n",
    "def process_call(call_reason, call_data_bambara):\n",
    "    # Determine call type\n",
    "    call_type = determine_call_type(call_reason)\n",
    "    \n",
    "    # Handle different call types\n",
    "    if call_type == \"emergency\":\n",
    "        return \"Redirecting to infant health hotline...\"\n",
    "    elif call_type == \"music_fan\":\n",
    "        return \"Please contact Mango Mali for music-related inquiries.\"\n",
    "    else:\n",
    "        # Process farmer data\n",
    "        french_data = translate_bambara_to_french(call_data_bambara)\n",
    "        english_data = translate_french_to_english(french_data)\n",
    "        fraud_status = detect_fraud_in_report(english_data)\n",
    "        return english_data, fraud_status\n",
    "\n",
    "# Function to save data to CSV\n",
    "def save_to_csv(data, filename=\"mango_data.csv\"):\n",
    "    with open(filename, mode='a', newline='') as file:\n",
    "        writer = csv.writer(file)\n",
    "        writer.writerow(data)\n",
    "\n",
    "# Main function to simulate call center with user input\n",
    "def mango_call_center():\n",
    "    while True:\n",
    "        # Get user input for call reason and data in Bambara\n",
    "        reason = input(\"Please enter the reason for calling (e.g., 'Mango production report', 'Emergency with my infant', 'Inquiring about music'): \")\n",
    "        data_bambara = input(\"Please enter the data (in Bambara): \")\n",
    "\n",
    "        # Process call and handle response\n",
    "        result = process_call(reason, data_bambara)\n",
    "        \n",
    "        # Display and handle the result\n",
    "        if isinstance(result, str):  # Redirected call\n",
    "            print(result)\n",
    "        else:  # Farmer's data handling\n",
    "            english_data, fraud_status = result\n",
    "            print(f\"Translated English Data: {english_data}\")\n",
    "            print(f\"Fraud Status: {fraud_status}\")\n",
    "            \n",
    "            # Save the data to CSV\n",
    "            save_to_csv([reason, data_bambara, english_data, fraud_status])\n",
    "\n",
    "        # Ask if they want to process another call\n",
    "        another_call = input(\"Do you want to process another call? (yes/no): \")\n",
    "        if another_call.lower() != 'yes':\n",
    "            print(\"Ending call center session.\")\n",
    "            break\n",
    "\n",
    "# Run the call center simulation\n",
    "mango_call_center()\n"
   ]
  },
  {
   "cell_type": "code",
   "execution_count": null,
   "id": "c4a1619e-b5c9-4463-b14d-cf700aa0b425",
   "metadata": {},
   "outputs": [],
   "source": []
  }
 ],
 "metadata": {
  "kernelspec": {
   "display_name": "base",
   "language": "python",
   "name": "python3"
  },
  "language_info": {
   "codemirror_mode": {
    "name": "ipython",
    "version": 3
   },
   "file_extension": ".py",
   "mimetype": "text/x-python",
   "name": "python",
   "nbconvert_exporter": "python",
   "pygments_lexer": "ipython3",
   "version": "3.12.4"
  }
 },
 "nbformat": 4,
 "nbformat_minor": 5
}
