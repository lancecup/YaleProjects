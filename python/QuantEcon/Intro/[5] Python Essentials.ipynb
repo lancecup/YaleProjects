{
 "cells": [
  {
   "cell_type": "markdown",
   "metadata": {},
   "source": [
    "## Data Types"
   ]
  },
  {
   "cell_type": "code",
   "execution_count": 5,
   "metadata": {},
   "outputs": [
    {
     "data": {
      "text/plain": [
       "0"
      ]
     },
     "execution_count": 5,
     "metadata": {},
     "output_type": "execute_result"
    }
   ],
   "source": [
    "# Primitive Data Types\n",
    "\n",
    "# Boolean Values\n",
    "x = True\n",
    "type(x) # We can check the type of any object using type()\n",
    "y = 100 < 10\n",
    "y\n",
    "\n",
    "# Boolean Arithmetic – True is converted to 1 and False is 0\n",
    "x + y\n",
    "x * y"
   ]
  },
  {
   "cell_type": "code",
   "execution_count": 7,
   "metadata": {},
   "outputs": [
    {
     "name": "stdout",
     "output_type": "stream",
     "text": [
      "5j\n"
     ]
    },
    {
     "data": {
      "text/plain": [
       "complex"
      ]
     },
     "execution_count": 7,
     "metadata": {},
     "output_type": "execute_result"
    }
   ],
   "source": [
    "# Numeric Types\n",
    "# We have seen integer and float types before but complex numbers are another primitive data type in Python\n",
    "\n",
    "x = complex(1,2)\n",
    "y = complex(2,1)\n",
    "print(x * y)\n",
    "\n",
    "type(x)"
   ]
  },
  {
   "cell_type": "code",
   "execution_count": 12,
   "metadata": {},
   "outputs": [
    {
     "name": "stdout",
     "output_type": "stream",
     "text": [
      "[10, 2]\n",
      "('a', 'b')\n"
     ]
    },
    {
     "data": {
      "text/plain": [
       "10"
      ]
     },
     "execution_count": 12,
     "metadata": {},
     "output_type": "execute_result"
    }
   ],
   "source": [
    "# Containers\n",
    "# Lists (Already discussed)\n",
    "# Lists are mutable\n",
    "\n",
    "y = [1, 2]\n",
    "y[0] = 10\n",
    "print(y)\n",
    "\n",
    "# Tuples (Immutable lists)\n",
    "x = ('a', 'b')\n",
    "x = 'a', 'b'\n",
    "print(x)\n",
    "\n",
    "type(x)\n",
    "\n",
    "# Tuples (and lists can be unpacked as follows)\n",
    "integers = (10, 20, 30)\n",
    "x,y,z = integers\n",
    "x"
   ]
  },
  {
   "cell_type": "code",
   "execution_count": 18,
   "metadata": {},
   "outputs": [
    {
     "data": {
      "text/plain": [
       "'bar'"
      ]
     },
     "execution_count": 18,
     "metadata": {},
     "output_type": "execute_result"
    }
   ],
   "source": [
    "# Slice Notation\n",
    "# To access multiuple elements of a sequence (a list, tuple, or string), you can slice it\n",
    "\n",
    "a = ['a', 'b', 'c', 'd', 'e']\n",
    "a[1:]\n",
    "\n",
    "a[1:3]\n",
    "\n",
    "# The general rule is that a[m:n] returns n to m elements, starting at a[m] and negative numbers are also permissible\n",
    "\n",
    "a[-2:] # Last two elements of the list\n",
    "\n",
    "# You can also use the format [start : end : step]\n",
    "a[::2]\n",
    "\n",
    "# Using a negative step, you can return the sequence in a reversed order\n",
    "a[-2 : : -1] # Walk backwards from the second last element to the first element\n",
    "\n",
    "s = 'foobar'\n",
    "s[-3:]"
   ]
  },
  {
   "cell_type": "code",
   "execution_count": null,
   "metadata": {},
   "outputs": [],
   "source": []
  }
 ],
 "metadata": {
  "kernelspec": {
   "display_name": "base",
   "language": "python",
   "name": "python3"
  },
  "language_info": {
   "codemirror_mode": {
    "name": "ipython",
    "version": 3
   },
   "file_extension": ".py",
   "mimetype": "text/x-python",
   "name": "python",
   "nbconvert_exporter": "python",
   "pygments_lexer": "ipython3",
   "version": "3.12.2"
  }
 },
 "nbformat": 4,
 "nbformat_minor": 2
}
